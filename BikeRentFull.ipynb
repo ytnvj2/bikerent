{
 "cells": [
  {
   "cell_type": "code",
   "execution_count": 69,
   "metadata": {},
   "outputs": [],
   "source": [
    "\n",
    "%matplotlib inline"
   ]
  },
  {
   "cell_type": "code",
   "execution_count": 4,
   "metadata": {},
   "outputs": [
    {
     "name": "stdout",
     "output_type": "stream",
     "text": [
      "<class 'pandas.core.frame.DataFrame'>\n",
      "RangeIndex: 731 entries, 0 to 730\n",
      "Data columns (total 16 columns):\n",
      "Instant             731 non-null object\n",
      "Date                731 non-null object\n",
      "Season              731 non-null object\n",
      "Year                731 non-null object\n",
      "Month               731 non-null object\n",
      "Holiday             731 non-null object\n",
      "Weekday             731 non-null object\n",
      "WorkingDay          731 non-null object\n",
      "WeatherSituation    731 non-null object\n",
      "Temp                731 non-null float64\n",
      "ActualTemp          731 non-null float64\n",
      "Humidity            731 non-null float64\n",
      "WindSpeed           731 non-null float64\n",
      "Casual              731 non-null float64\n",
      "Registered          731 non-null float64\n",
      "Count               731 non-null float64\n",
      "dtypes: float64(7), object(9)\n",
      "memory usage: 91.5+ KB\n",
      "Instant              0\n",
      "Date                 0\n",
      "Season               0\n",
      "Year                 0\n",
      "Month                0\n",
      "Holiday              0\n",
      "Weekday              0\n",
      "WorkingDay           0\n",
      "WeatherSituation     0\n",
      "Temp                 0\n",
      "ActualTemp           0\n",
      "Humidity             2\n",
      "WindSpeed           13\n",
      "Casual              44\n",
      "Registered           0\n",
      "Count                0\n",
      "dtype: int64\n",
      "Imputing row 1/731 with 0 missing, elapsed time: 0.067\n",
      "Imputing row 101/731 with 0 missing, elapsed time: 0.068\n",
      "Imputing row 201/731 with 0 missing, elapsed time: 0.068\n",
      "Imputing row 301/731 with 0 missing, elapsed time: 0.069\n",
      "Imputing row 401/731 with 0 missing, elapsed time: 0.069\n",
      "Imputing row 501/731 with 0 missing, elapsed time: 0.070\n",
      "Imputing row 601/731 with 0 missing, elapsed time: 0.070\n",
      "Imputing row 701/731 with 0 missing, elapsed time: 0.071\n",
      "Instant             0\n",
      "Date                0\n",
      "Season              0\n",
      "Year                0\n",
      "Month               0\n",
      "Holiday             0\n",
      "Weekday             0\n",
      "WorkingDay          0\n",
      "WeatherSituation    0\n",
      "Temp                0\n",
      "ActualTemp          0\n",
      "Humidity            0\n",
      "WindSpeed           3\n",
      "Casual              0\n",
      "Registered          0\n",
      "Count               0\n",
      "dtype: int64\n",
      "Imputing row 1/731 with 0 missing, elapsed time: 0.061\n",
      "Imputing row 101/731 with 0 missing, elapsed time: 0.062\n",
      "Imputing row 201/731 with 0 missing, elapsed time: 0.062\n",
      "Imputing row 301/731 with 0 missing, elapsed time: 0.062\n",
      "Imputing row 401/731 with 0 missing, elapsed time: 0.063\n",
      "Imputing row 501/731 with 0 missing, elapsed time: 0.063\n",
      "Imputing row 601/731 with 0 missing, elapsed time: 0.063\n",
      "Imputing row 701/731 with 0 missing, elapsed time: 0.063\n",
      "Instant             0\n",
      "Date                0\n",
      "Season              0\n",
      "Year                0\n",
      "Month               0\n",
      "Holiday             0\n",
      "Weekday             0\n",
      "WorkingDay          0\n",
      "WeatherSituation    0\n",
      "Temp                0\n",
      "ActualTemp          0\n",
      "Humidity            0\n",
      "WindSpeed           1\n",
      "Casual              0\n",
      "Registered          0\n",
      "Count               0\n",
      "dtype: int64\n",
      "Imputing row 1/731 with 0 missing, elapsed time: 0.060\n",
      "Imputing row 101/731 with 0 missing, elapsed time: 0.060\n",
      "Imputing row 201/731 with 0 missing, elapsed time: 0.060\n",
      "Imputing row 301/731 with 0 missing, elapsed time: 0.060\n",
      "Imputing row 401/731 with 0 missing, elapsed time: 0.060\n",
      "Imputing row 501/731 with 0 missing, elapsed time: 0.061\n",
      "Imputing row 601/731 with 0 missing, elapsed time: 0.061\n",
      "Imputing row 701/731 with 0 missing, elapsed time: 0.061\n",
      "Instant             0\n",
      "Date                0\n",
      "Season              0\n",
      "Year                0\n",
      "Month               0\n",
      "Holiday             0\n",
      "Weekday             0\n",
      "WorkingDay          0\n",
      "WeatherSituation    0\n",
      "Temp                0\n",
      "ActualTemp          0\n",
      "Humidity            0\n",
      "WindSpeed           0\n",
      "Casual              0\n",
      "Registered          0\n",
      "Count               0\n",
      "dtype: int64\n"
     ]
    },
    {
     "ename": "NameError",
     "evalue": "name 'plt' is not defined",
     "output_type": "error",
     "traceback": [
      "\u001b[1;31m---------------------------------------------------------------------------\u001b[0m",
      "\u001b[1;31mNameError\u001b[0m                                 Traceback (most recent call last)",
      "\u001b[1;32m<ipython-input-4-e297a39109f7>\u001b[0m in \u001b[0;36m<module>\u001b[1;34m()\u001b[0m\n\u001b[0;32m    115\u001b[0m \u001b[0mdf\u001b[0m\u001b[1;33m=\u001b[0m\u001b[0mload_data\u001b[0m\u001b[1;33m(\u001b[0m\u001b[1;33m)\u001b[0m\u001b[1;33m\u001b[0m\u001b[0m\n\u001b[0;32m    116\u001b[0m \u001b[0mdf\u001b[0m\u001b[1;33m=\u001b[0m\u001b[0moutlier_imputer\u001b[0m\u001b[1;33m(\u001b[0m\u001b[0mdf\u001b[0m\u001b[1;33m)\u001b[0m\u001b[1;33m\u001b[0m\u001b[0m\n\u001b[1;32m--> 117\u001b[1;33m \u001b[0mdf\u001b[0m\u001b[1;33m=\u001b[0m\u001b[0mfeature_selection\u001b[0m\u001b[1;33m(\u001b[0m\u001b[0mdf\u001b[0m\u001b[1;33m)\u001b[0m\u001b[1;33m\u001b[0m\u001b[0m\n\u001b[0m\u001b[0;32m    118\u001b[0m \u001b[0mX_train\u001b[0m\u001b[1;33m,\u001b[0m\u001b[0mX_test\u001b[0m\u001b[1;33m,\u001b[0m\u001b[0my_train\u001b[0m\u001b[1;33m,\u001b[0m\u001b[0my_test\u001b[0m\u001b[1;33m=\u001b[0m\u001b[0msplit_dataset\u001b[0m\u001b[1;33m(\u001b[0m\u001b[0mdf\u001b[0m\u001b[1;33m)\u001b[0m\u001b[1;33m\u001b[0m\u001b[0m\n\u001b[0;32m    119\u001b[0m \u001b[0mX_train_scaled\u001b[0m\u001b[1;33m,\u001b[0m\u001b[0mX_test_scaled\u001b[0m\u001b[1;33m,\u001b[0m\u001b[0mstandardScaler\u001b[0m\u001b[1;33m=\u001b[0m\u001b[0mfeature_scaling\u001b[0m\u001b[1;33m(\u001b[0m\u001b[0mX_train\u001b[0m\u001b[1;33m,\u001b[0m\u001b[0mX_test\u001b[0m\u001b[1;33m)\u001b[0m\u001b[1;33m\u001b[0m\u001b[0m\n",
      "\u001b[1;32m<ipython-input-4-e297a39109f7>\u001b[0m in \u001b[0;36mfeature_selection\u001b[1;34m(df)\u001b[0m\n\u001b[0;32m     53\u001b[0m \u001b[1;32mdef\u001b[0m \u001b[0mfeature_selection\u001b[0m\u001b[1;33m(\u001b[0m\u001b[0mdf\u001b[0m\u001b[1;33m)\u001b[0m\u001b[1;33m:\u001b[0m\u001b[1;33m\u001b[0m\u001b[0m\n\u001b[0;32m     54\u001b[0m     \u001b[1;31m#Set the width and hieght of the plot\u001b[0m\u001b[1;33m\u001b[0m\u001b[1;33m\u001b[0m\u001b[0m\n\u001b[1;32m---> 55\u001b[1;33m     \u001b[0mf\u001b[0m\u001b[1;33m,\u001b[0m \u001b[0max\u001b[0m \u001b[1;33m=\u001b[0m \u001b[0mplt\u001b[0m\u001b[1;33m.\u001b[0m\u001b[0msubplots\u001b[0m\u001b[1;33m(\u001b[0m\u001b[0mfigsize\u001b[0m\u001b[1;33m=\u001b[0m\u001b[1;33m(\u001b[0m\u001b[1;36m7\u001b[0m\u001b[1;33m,\u001b[0m \u001b[1;36m5\u001b[0m\u001b[1;33m)\u001b[0m\u001b[1;33m)\u001b[0m\u001b[1;33m\u001b[0m\u001b[0m\n\u001b[0m\u001b[0;32m     56\u001b[0m     \u001b[1;31m#Generate correlation matrix\u001b[0m\u001b[1;33m\u001b[0m\u001b[1;33m\u001b[0m\u001b[0m\n\u001b[0;32m     57\u001b[0m     \u001b[0mcorr\u001b[0m \u001b[1;33m=\u001b[0m \u001b[0mdf\u001b[0m\u001b[1;33m.\u001b[0m\u001b[0miloc\u001b[0m\u001b[1;33m[\u001b[0m\u001b[1;33m:\u001b[0m\u001b[1;33m,\u001b[0m\u001b[1;36m9\u001b[0m\u001b[1;33m:\u001b[0m\u001b[1;33m]\u001b[0m\u001b[1;33m.\u001b[0m\u001b[0mcorr\u001b[0m\u001b[1;33m(\u001b[0m\u001b[1;33m)\u001b[0m\u001b[1;33m\u001b[0m\u001b[0m\n",
      "\u001b[1;31mNameError\u001b[0m: name 'plt' is not defined"
     ]
    }
   ],
   "source": [
    "import os\n",
    "import pandas as pd\n",
    "import numpy as np\n",
    "import fancyimpute\n",
    "import seaborn as sns\n",
    "from sklearn.preprocessing import StandardScaler\n",
    "from sklearn.model_selection import train_test_split\n",
    "from sklearn.linear_model import LinearRegression\n",
    "from sklearn.tree import DecisionTreeRegressor\n",
    "from sklearn.ensemble import RandomForestRegressor\n",
    "from sklearn.neighbors import KNeighborsRegressor\n",
    "from sklearn.metrics import (explained_variance_score, mean_absolute_error, mean_squared_error)\n",
    "from sklearn.metrics import r2_score\n",
    "def load_data():\n",
    "    # define path of csv\n",
    "    raw_data_path=os.path.join(os.path.pardir,'day.csv')\n",
    "    # import the dataset\n",
    "    df=pd.read_csv(raw_data_path)\n",
    "    df.columns=['Instant', 'Date', 'Season', 'Year', 'Month', 'Holiday', 'Weekday',\n",
    "           'WorkingDay', 'WeatherSituation', 'Temp', 'ActualTemp', 'Humidity', 'WindSpeed',\n",
    "           'Casual', 'Registered', 'Count']\n",
    "    # Convert the categorical columns to object \n",
    "    cat_cols=['Instant','Season', 'Year', 'Month', 'Holiday', 'Weekday',\n",
    "           'WorkingDay', 'WeatherSituation']\n",
    "    for i in cat_cols:\n",
    "        df[i] = df[i].astype(object)\n",
    "    num_cols=[]\n",
    "    for i in df.columns:\n",
    "        if(df[i].dtype==np.dtype('int64') or df[i].dtype==np.dtype('float64')):\n",
    "            num_cols.append(i)\n",
    "            df[i] = df[i].astype(np.float64)\n",
    "    # viewing the dataframe's info\n",
    "    df.info()\n",
    "    return df\n",
    "def outlier_imputer(df_o):\n",
    "    # Outlier Analysis\n",
    "    while True:\n",
    "        for i in num_cols:\n",
    "            median=np.median(df_o[i])\n",
    "            std=np.std(df_o[i])\n",
    "            min=(df_o[i].quantile(0.25)-1.5*(df_o[i].quantile(0.75)-df_o[i].quantile(0.25)))    \n",
    "            max=(df_o[i].quantile(0.75)+1.5*(df_o[i].quantile(0.75)-df_o[i].quantile(0.25)))\n",
    "            df_o.loc[df_o[i]<min,i] = np.nan\n",
    "            df_o.loc[df_o[i]>max,i] = np.nan\n",
    "        missing_val = df_o.isnull().sum()\n",
    "        print(missing_val)\n",
    "        if(missing_val.sum()>0):\n",
    "            df_o_knn=pd.DataFrame(fancyimpute.KNN(k = 3).complete(df_o[num_cols]), columns = num_cols)\n",
    "            df_o.iloc[:,9:]=df_o_knn.iloc[:,1:]\n",
    "        else:\n",
    "            break\n",
    "    return df_o\n",
    "def feature_selection(df):\n",
    "    #Set the width and hieght of the plot\n",
    "    f, ax = plt.subplots(figsize=(7, 5))\n",
    "    #Generate correlation matrix\n",
    "    corr = df.iloc[:,9:].corr()\n",
    "    #Plot using seaborn library\n",
    "    sns.heatmap(corr, mask=np.zeros_like(corr, dtype=np.bool), cmap=sns.diverging_palette(220, 10, as_cmap=True),\n",
    "                square=True, ax=ax)\n",
    "    return df.drop(['Instant','Date','Holiday','Temp','Registered'],axis=1,inplace=False)\n",
    "def split_dataset(df):\n",
    "    X=df.iloc[:,:-1].values\n",
    "    y=df.iloc[:,-1].values\n",
    "    return train_test_split(X,y,test_size=0.2,random_state=123)\n",
    "def feature_scaling(X_train,X_test):\n",
    "    standardScaler=StandardScaler()\n",
    "    X_train[:,6:]=standardScaler.fit_transform(X_train[:,6:])\n",
    "    X_test[:,6:]=standardScaler.transform(X_test[:,6:])\n",
    "    return X_train,X_test,standardScaler\n",
    "def train_lm(X_train,y_train):\n",
    "    lr_model=LinearRegression()\n",
    "    lr_model.fit(X_train,y_train)\n",
    "    return lr_model\n",
    "def train_dt(X_train,y_train):\n",
    "    dtr_model=DecisionTreeRegressor(random_state=123)\n",
    "    dtr_model.fit(X_train,y_train)\n",
    "    return dtr_model\n",
    "def train_rf(X_train,y_train):\n",
    "    rf_model=RandomForestRegressor(n_estimators=50,random_state=123)\n",
    "    rf_model.fit(X_train,y_train)\n",
    "    return rf_model\n",
    "def train_knn(X_train,y_train):\n",
    "    rf_model=KNeighborsRegressor(n_neighbors=5)\n",
    "    rf_model.fit(X_train,y_train)\n",
    "    return rf_model\n",
    "def predict_vals(model,X_test,y_test):\n",
    "    print(model.score(X_test,y_test))\n",
    "    preds=model.predict(X_test)\n",
    "    return preds\n",
    "def evaluate_model(y_test,y_pred):\n",
    "    print('R-Square',r2_score(y_test,y_pred))\n",
    "    print('MSE',mean_squared_error(y_test,y_pred))\n",
    "    print('MAE',mean_absolute_error(y_test,y_pred))\n",
    "    print('Explained Variance',explained_variance_score(y_test,y_pred))\n",
    "def predict(model,X):\n",
    "    df=X\n",
    "    df.columns=['Instant', 'Date', 'Season', 'Year', 'Month', 'Holiday', 'Weekday',\n",
    "           'WorkingDay', 'WeatherSituation', 'Temp', 'ActualTemp', 'Humidity', 'WindSpeed',\n",
    "           'Casual', 'Registered']\n",
    "    # Convert the categorical columns to object \n",
    "    cat_cols=['Season', 'Year', 'Month', 'Holiday', 'Weekday',\n",
    "           'WorkingDay', 'WeatherSituation']\n",
    "    for i in cat_cols:\n",
    "        df[i] = df[i].astype(object)\n",
    "    num_cols=[]\n",
    "    for i in df.columns:\n",
    "        if(df[i].dtype==np.dtype('int64') or df[i].dtype==np.dtype('float64')):\n",
    "            num_cols.append(i)\n",
    "            df[i] = df[i].astype(np.float64)\n",
    "    X.drop(['Instant','Date','Holiday','Temp','Registered'],axis=1,inplace=True)\n",
    "    X=X.values\n",
    "    X[:,6:]=standardScaler.transform(X[:,6:])\n",
    "    return model.predict(X)\n",
    "df=load_data()\n",
    "df=outlier_imputer(df)\n",
    "df=feature_selection(df)\n",
    "X_train,X_test,y_train,y_test=split_dataset(df)\n",
    "X_train_scaled,X_test_scaled,standardScaler=feature_scaling(X_train,X_test)\n",
    "lr_model=train_lm(X_train,y_train)\n",
    "dt_model=train_dt(X_train,y_train)\n",
    "rf_model=train_rf(X_train,y_train)\n",
    "knn_model=train_knn(X_train,y_train)\n",
    "print('Linear Model')\n",
    "y_pred=predict_vals(lr_model,X_test,y_test)\n",
    "evaluate_model(y_test,y_pred)\n",
    "print('Decision Tree Model')\n",
    "y_pred=predict_vals(dt_model,X_test,y_test)\n",
    "evaluate_model(y_test,y_pred)\n",
    "print('Random Forest Model')\n",
    "y_pred=predict_vals(rf_model,X_test,y_test)\n",
    "evaluate_model(y_test,y_pred)\n",
    "print('K Nearest Neighbors(k=5)')\n",
    "y_pred=predict_vals(knn_model,X_test,y_test)\n",
    "evaluate_model(y_test,y_pred)"
   ]
  },
  {
   "cell_type": "code",
   "execution_count": 5,
   "metadata": {},
   "outputs": [],
   "source": [
    "    num_cols=[]\n",
    "    for i in df.columns:\n",
    "        if(df[i].dtype==np.dtype('int64') or df[i].dtype==np.dtype('float64')):\n",
    "            num_cols.append(i)"
   ]
  },
  {
   "cell_type": "code",
   "execution_count": 6,
   "metadata": {},
   "outputs": [
    {
     "data": {
      "text/plain": [
       "['Instant',\n",
       " 'Temp',\n",
       " 'ActualTemp',\n",
       " 'Humidity',\n",
       " 'WindSpeed',\n",
       " 'Casual',\n",
       " 'Registered',\n",
       " 'Count']"
      ]
     },
     "execution_count": 6,
     "metadata": {},
     "output_type": "execute_result"
    }
   ],
   "source": [
    "num_cols"
   ]
  },
  {
   "cell_type": "code",
   "execution_count": 295,
   "metadata": {},
   "outputs": [
    {
     "name": "stderr",
     "output_type": "stream",
     "text": [
      "C:\\Users\\ytnvj\\Anaconda3\\lib\\site-packages\\sklearn\\utils\\validation.py:475: DataConversionWarning: Data with input dtype object was converted to float64 by StandardScaler.\n",
      "  warnings.warn(msg, DataConversionWarning)\n"
     ]
    },
    {
     "data": {
      "text/plain": [
       "array([3732.66666667])"
      ]
     },
     "execution_count": 295,
     "metadata": {},
     "output_type": "execute_result"
    }
   ],
   "source": [
    "predict(knn_model,s)\n",
    "\n"
   ]
  },
  {
   "cell_type": "code",
   "execution_count": 321,
   "metadata": {},
   "outputs": [
    {
     "name": "stdout",
     "output_type": "stream",
     "text": [
      "The Model's Prediction for the input is [3927.8]\n"
     ]
    },
    {
     "name": "stderr",
     "output_type": "stream",
     "text": [
      "C:\\Users\\ytnvj\\Anaconda3\\lib\\site-packages\\sklearn\\utils\\validation.py:475: DataConversionWarning: Data with input dtype object was converted to float64 by StandardScaler.\n",
      "  warnings.warn(msg, DataConversionWarning)\n"
     ]
    }
   ],
   "source": [
    "print(\"The Model's Prediction for the input is\",predict(rf_model,s))"
   ]
  },
  {
   "cell_type": "code",
   "execution_count": 301,
   "metadata": {},
   "outputs": [],
   "source": [
    "\n",
    "df_n=pd.read_csv(raw_data_path)\n"
   ]
  },
  {
   "cell_type": "code",
   "execution_count": 310,
   "metadata": {},
   "outputs": [
    {
     "data": {
      "text/plain": [
       "Index(['cnt'], dtype='object')"
      ]
     },
     "execution_count": 310,
     "metadata": {},
     "output_type": "execute_result"
    }
   ],
   "source": [
    "df_n.iloc[:,9:-1].columns\n",
    "df_n.iloc[:,-1:].columns"
   ]
  },
  {
   "cell_type": "code",
   "execution_count": null,
   "metadata": {},
   "outputs": [],
   "source": []
  },
  {
   "cell_type": "code",
   "execution_count": 311,
   "metadata": {},
   "outputs": [
    {
     "data": {
      "text/plain": [
       "<seaborn.axisgrid.PairGrid at 0x18e6d022978>"
      ]
     },
     "execution_count": 311,
     "metadata": {},
     "output_type": "execute_result"
    },
    {
     "data": {
      "image/png": "[encoded data removed]",
      "text/plain": [
       "<Figure size 1080x180 with 6 Axes>"
      ]
     },
     "metadata": {},
     "output_type": "display_data"
    }
   ],
   "source": [
    "sns.pairplot(df_n,x_vars=df_n.iloc[:,9:-1].columns,y_vars=df_n.iloc[:,-1:].columns)"
   ]
  },
  {
   "cell_type": "code",
   "execution_count": 317,
   "metadata": {},
   "outputs": [],
   "source": [
    "a=np.array([[399, '2012-02-03', 1, 1, 2, 0, 5, 1, 1, 0.313333, 0.309346,\n",
    "        0.526667, 0.17849600000000002, 310, 3841]], dtype=object)"
   ]
  },
  {
   "cell_type": "code",
   "execution_count": 320,
   "metadata": {},
   "outputs": [],
   "source": [
    "s=pd.DataFrame(a)"
   ]
  },
  {
   "cell_type": "code",
   "execution_count": 284,
   "metadata": {},
   "outputs": [],
   "source": [
    "s.columns=['Instant', 'Date', 'Season', 'Year', 'Month', 'Holiday', 'Weekday',\n",
    "           'WorkingDay', 'WeatherSituation', 'Temp', 'ActualTemp', 'Humidity', 'WindSpeed',\n",
    "           'Casual', 'Registered']"
   ]
  },
  {
   "cell_type": "code",
   "execution_count": 234,
   "metadata": {},
   "outputs": [
    {
     "data": {
      "text/html": [
       "<div>\n",
       "<style scoped>\n",
       "    .dataframe tbody tr th:only-of-type {\n",
       "        vertical-align: middle;\n",
       "    }\n",
       "\n",
       "    .dataframe tbody tr th {\n",
       "        vertical-align: top;\n",
       "    }\n",
       "\n",
       "    .dataframe thead th {\n",
       "        text-align: right;\n",
       "    }\n",
       "</style>\n",
       "<table border=\"1\" class=\"dataframe\">\n",
       "  <thead>\n",
       "    <tr style=\"text-align: right;\">\n",
       "      <th></th>\n",
       "      <th>Instant</th>\n",
       "      <th>Date</th>\n",
       "      <th>Season</th>\n",
       "      <th>Year</th>\n",
       "      <th>Month</th>\n",
       "      <th>Holiday</th>\n",
       "      <th>Weekday</th>\n",
       "      <th>WorkingDay</th>\n",
       "      <th>WeatherSituation</th>\n",
       "      <th>Temp</th>\n",
       "      <th>ActualTemp</th>\n",
       "      <th>Humidity</th>\n",
       "      <th>WindSpeed</th>\n",
       "      <th>Casual</th>\n",
       "      <th>Registered</th>\n",
       "      <th>Count</th>\n",
       "    </tr>\n",
       "  </thead>\n",
       "  <tbody>\n",
       "    <tr>\n",
       "      <th>0</th>\n",
       "      <td>1</td>\n",
       "      <td>2011-01-01</td>\n",
       "      <td>1</td>\n",
       "      <td>0</td>\n",
       "      <td>1</td>\n",
       "      <td>0</td>\n",
       "      <td>6</td>\n",
       "      <td>0</td>\n",
       "      <td>2</td>\n",
       "      <td>0.344167</td>\n",
       "      <td>0.363625</td>\n",
       "      <td>0.805833</td>\n",
       "      <td>0.160446</td>\n",
       "      <td>331</td>\n",
       "      <td>654</td>\n",
       "      <td>985</td>\n",
       "    </tr>\n",
       "  </tbody>\n",
       "</table>\n",
       "</div>"
      ],
      "text/plain": [
       "  Instant        Date Season Year Month Holiday Weekday WorkingDay  \\\n",
       "0       1  2011-01-01      1    0     1       0       6          0   \n",
       "\n",
       "  WeatherSituation      Temp ActualTemp  Humidity WindSpeed Casual Registered  \\\n",
       "0                2  0.344167   0.363625  0.805833  0.160446    331        654   \n",
       "\n",
       "  Count  \n",
       "0   985  "
      ]
     },
     "execution_count": 234,
     "metadata": {},
     "output_type": "execute_result"
    }
   ],
   "source": [
    "s.head()"
   ]
  },
  {
   "cell_type": "markdown",
   "metadata": {},
   "source": [
    "# Exploratory Data Analysis"
   ]
  },
  {
   "cell_type": "code",
   "execution_count": 184,
   "metadata": {},
   "outputs": [
    {
     "data": {
      "text/html": [
       "<div>\n",
       "<style scoped>\n",
       "    .dataframe tbody tr th:only-of-type {\n",
       "        vertical-align: middle;\n",
       "    }\n",
       "\n",
       "    .dataframe tbody tr th {\n",
       "        vertical-align: top;\n",
       "    }\n",
       "\n",
       "    .dataframe thead th {\n",
       "        text-align: right;\n",
       "    }\n",
       "</style>\n",
       "<table border=\"1\" class=\"dataframe\">\n",
       "  <thead>\n",
       "    <tr style=\"text-align: right;\">\n",
       "      <th></th>\n",
       "      <th>Instant</th>\n",
       "      <th>Date</th>\n",
       "      <th>Season</th>\n",
       "      <th>Year</th>\n",
       "      <th>Month</th>\n",
       "      <th>Holiday</th>\n",
       "      <th>Weekday</th>\n",
       "      <th>WorkingDay</th>\n",
       "      <th>WeatherSituation</th>\n",
       "      <th>Temp</th>\n",
       "      <th>ActualTemp</th>\n",
       "      <th>Humidity</th>\n",
       "      <th>WindSpeed</th>\n",
       "      <th>Casual</th>\n",
       "      <th>Registered</th>\n",
       "      <th>Count</th>\n",
       "    </tr>\n",
       "  </thead>\n",
       "  <tbody>\n",
       "    <tr>\n",
       "      <th>count</th>\n",
       "      <td>731.000000</td>\n",
       "      <td>731</td>\n",
       "      <td>731.0</td>\n",
       "      <td>731.0</td>\n",
       "      <td>731.0</td>\n",
       "      <td>731.0</td>\n",
       "      <td>731.0</td>\n",
       "      <td>731.0</td>\n",
       "      <td>731.0</td>\n",
       "      <td>731.000000</td>\n",
       "      <td>731.000000</td>\n",
       "      <td>731.000000</td>\n",
       "      <td>731.000000</td>\n",
       "      <td>731.000000</td>\n",
       "      <td>731.000000</td>\n",
       "      <td>731.000000</td>\n",
       "    </tr>\n",
       "    <tr>\n",
       "      <th>unique</th>\n",
       "      <td>NaN</td>\n",
       "      <td>731</td>\n",
       "      <td>4.0</td>\n",
       "      <td>2.0</td>\n",
       "      <td>12.0</td>\n",
       "      <td>2.0</td>\n",
       "      <td>7.0</td>\n",
       "      <td>2.0</td>\n",
       "      <td>3.0</td>\n",
       "      <td>NaN</td>\n",
       "      <td>NaN</td>\n",
       "      <td>NaN</td>\n",
       "      <td>NaN</td>\n",
       "      <td>NaN</td>\n",
       "      <td>NaN</td>\n",
       "      <td>NaN</td>\n",
       "    </tr>\n",
       "    <tr>\n",
       "      <th>top</th>\n",
       "      <td>NaN</td>\n",
       "      <td>2012-01-20</td>\n",
       "      <td>3.0</td>\n",
       "      <td>1.0</td>\n",
       "      <td>12.0</td>\n",
       "      <td>0.0</td>\n",
       "      <td>6.0</td>\n",
       "      <td>1.0</td>\n",
       "      <td>1.0</td>\n",
       "      <td>NaN</td>\n",
       "      <td>NaN</td>\n",
       "      <td>NaN</td>\n",
       "      <td>NaN</td>\n",
       "      <td>NaN</td>\n",
       "      <td>NaN</td>\n",
       "      <td>NaN</td>\n",
       "    </tr>\n",
       "    <tr>\n",
       "      <th>freq</th>\n",
       "      <td>NaN</td>\n",
       "      <td>1</td>\n",
       "      <td>188.0</td>\n",
       "      <td>366.0</td>\n",
       "      <td>62.0</td>\n",
       "      <td>710.0</td>\n",
       "      <td>105.0</td>\n",
       "      <td>500.0</td>\n",
       "      <td>463.0</td>\n",
       "      <td>NaN</td>\n",
       "      <td>NaN</td>\n",
       "      <td>NaN</td>\n",
       "      <td>NaN</td>\n",
       "      <td>NaN</td>\n",
       "      <td>NaN</td>\n",
       "      <td>NaN</td>\n",
       "    </tr>\n",
       "    <tr>\n",
       "      <th>mean</th>\n",
       "      <td>366.000000</td>\n",
       "      <td>NaN</td>\n",
       "      <td>NaN</td>\n",
       "      <td>NaN</td>\n",
       "      <td>NaN</td>\n",
       "      <td>NaN</td>\n",
       "      <td>NaN</td>\n",
       "      <td>NaN</td>\n",
       "      <td>NaN</td>\n",
       "      <td>0.495385</td>\n",
       "      <td>0.474354</td>\n",
       "      <td>0.629504</td>\n",
       "      <td>0.185810</td>\n",
       "      <td>811.674923</td>\n",
       "      <td>3656.172367</td>\n",
       "      <td>4504.348837</td>\n",
       "    </tr>\n",
       "    <tr>\n",
       "      <th>std</th>\n",
       "      <td>211.165812</td>\n",
       "      <td>NaN</td>\n",
       "      <td>NaN</td>\n",
       "      <td>NaN</td>\n",
       "      <td>NaN</td>\n",
       "      <td>NaN</td>\n",
       "      <td>NaN</td>\n",
       "      <td>NaN</td>\n",
       "      <td>NaN</td>\n",
       "      <td>0.183051</td>\n",
       "      <td>0.162961</td>\n",
       "      <td>0.140063</td>\n",
       "      <td>0.070059</td>\n",
       "      <td>598.206134</td>\n",
       "      <td>1560.256377</td>\n",
       "      <td>1937.211452</td>\n",
       "    </tr>\n",
       "    <tr>\n",
       "      <th>min</th>\n",
       "      <td>1.000000</td>\n",
       "      <td>NaN</td>\n",
       "      <td>NaN</td>\n",
       "      <td>NaN</td>\n",
       "      <td>NaN</td>\n",
       "      <td>NaN</td>\n",
       "      <td>NaN</td>\n",
       "      <td>NaN</td>\n",
       "      <td>NaN</td>\n",
       "      <td>0.059130</td>\n",
       "      <td>0.079070</td>\n",
       "      <td>0.254167</td>\n",
       "      <td>0.022392</td>\n",
       "      <td>2.000000</td>\n",
       "      <td>20.000000</td>\n",
       "      <td>22.000000</td>\n",
       "    </tr>\n",
       "    <tr>\n",
       "      <th>25%</th>\n",
       "      <td>183.500000</td>\n",
       "      <td>NaN</td>\n",
       "      <td>NaN</td>\n",
       "      <td>NaN</td>\n",
       "      <td>NaN</td>\n",
       "      <td>NaN</td>\n",
       "      <td>NaN</td>\n",
       "      <td>NaN</td>\n",
       "      <td>NaN</td>\n",
       "      <td>0.337083</td>\n",
       "      <td>0.337842</td>\n",
       "      <td>0.521041</td>\n",
       "      <td>0.134646</td>\n",
       "      <td>315.500000</td>\n",
       "      <td>2497.000000</td>\n",
       "      <td>3152.000000</td>\n",
       "    </tr>\n",
       "    <tr>\n",
       "      <th>50%</th>\n",
       "      <td>366.000000</td>\n",
       "      <td>NaN</td>\n",
       "      <td>NaN</td>\n",
       "      <td>NaN</td>\n",
       "      <td>NaN</td>\n",
       "      <td>NaN</td>\n",
       "      <td>NaN</td>\n",
       "      <td>NaN</td>\n",
       "      <td>NaN</td>\n",
       "      <td>0.498333</td>\n",
       "      <td>0.486733</td>\n",
       "      <td>0.627500</td>\n",
       "      <td>0.179721</td>\n",
       "      <td>713.000000</td>\n",
       "      <td>3662.000000</td>\n",
       "      <td>4548.000000</td>\n",
       "    </tr>\n",
       "    <tr>\n",
       "      <th>75%</th>\n",
       "      <td>548.500000</td>\n",
       "      <td>NaN</td>\n",
       "      <td>NaN</td>\n",
       "      <td>NaN</td>\n",
       "      <td>NaN</td>\n",
       "      <td>NaN</td>\n",
       "      <td>NaN</td>\n",
       "      <td>NaN</td>\n",
       "      <td>NaN</td>\n",
       "      <td>0.655417</td>\n",
       "      <td>0.608602</td>\n",
       "      <td>0.730833</td>\n",
       "      <td>0.230098</td>\n",
       "      <td>1096.000000</td>\n",
       "      <td>4776.500000</td>\n",
       "      <td>5956.000000</td>\n",
       "    </tr>\n",
       "    <tr>\n",
       "      <th>max</th>\n",
       "      <td>731.000000</td>\n",
       "      <td>NaN</td>\n",
       "      <td>NaN</td>\n",
       "      <td>NaN</td>\n",
       "      <td>NaN</td>\n",
       "      <td>NaN</td>\n",
       "      <td>NaN</td>\n",
       "      <td>NaN</td>\n",
       "      <td>NaN</td>\n",
       "      <td>0.861667</td>\n",
       "      <td>0.840896</td>\n",
       "      <td>0.972500</td>\n",
       "      <td>0.368167</td>\n",
       "      <td>2258.000000</td>\n",
       "      <td>6946.000000</td>\n",
       "      <td>8714.000000</td>\n",
       "    </tr>\n",
       "  </tbody>\n",
       "</table>\n",
       "</div>"
      ],
      "text/plain": [
       "           Instant        Date  Season   Year  Month  Holiday  Weekday  \\\n",
       "count   731.000000         731   731.0  731.0  731.0    731.0    731.0   \n",
       "unique         NaN         731     4.0    2.0   12.0      2.0      7.0   \n",
       "top            NaN  2012-01-20     3.0    1.0   12.0      0.0      6.0   \n",
       "freq           NaN           1   188.0  366.0   62.0    710.0    105.0   \n",
       "mean    366.000000         NaN     NaN    NaN    NaN      NaN      NaN   \n",
       "std     211.165812         NaN     NaN    NaN    NaN      NaN      NaN   \n",
       "min       1.000000         NaN     NaN    NaN    NaN      NaN      NaN   \n",
       "25%     183.500000         NaN     NaN    NaN    NaN      NaN      NaN   \n",
       "50%     366.000000         NaN     NaN    NaN    NaN      NaN      NaN   \n",
       "75%     548.500000         NaN     NaN    NaN    NaN      NaN      NaN   \n",
       "max     731.000000         NaN     NaN    NaN    NaN      NaN      NaN   \n",
       "\n",
       "        WorkingDay  WeatherSituation        Temp  ActualTemp    Humidity  \\\n",
       "count        731.0             731.0  731.000000  731.000000  731.000000   \n",
       "unique         2.0               3.0         NaN         NaN         NaN   \n",
       "top            1.0               1.0         NaN         NaN         NaN   \n",
       "freq         500.0             463.0         NaN         NaN         NaN   \n",
       "mean           NaN               NaN    0.495385    0.474354    0.629504   \n",
       "std            NaN               NaN    0.183051    0.162961    0.140063   \n",
       "min            NaN               NaN    0.059130    0.079070    0.254167   \n",
       "25%            NaN               NaN    0.337083    0.337842    0.521041   \n",
       "50%            NaN               NaN    0.498333    0.486733    0.627500   \n",
       "75%            NaN               NaN    0.655417    0.608602    0.730833   \n",
       "max            NaN               NaN    0.861667    0.840896    0.972500   \n",
       "\n",
       "         WindSpeed       Casual   Registered        Count  \n",
       "count   731.000000   731.000000   731.000000   731.000000  \n",
       "unique         NaN          NaN          NaN          NaN  \n",
       "top            NaN          NaN          NaN          NaN  \n",
       "freq           NaN          NaN          NaN          NaN  \n",
       "mean      0.185810   811.674923  3656.172367  4504.348837  \n",
       "std       0.070059   598.206134  1560.256377  1937.211452  \n",
       "min       0.022392     2.000000    20.000000    22.000000  \n",
       "25%       0.134646   315.500000  2497.000000  3152.000000  \n",
       "50%       0.179721   713.000000  3662.000000  4548.000000  \n",
       "75%       0.230098  1096.000000  4776.500000  5956.000000  \n",
       "max       0.368167  2258.000000  6946.000000  8714.000000  "
      ]
     },
     "execution_count": 184,
     "metadata": {},
     "output_type": "execute_result"
    }
   ],
   "source": [
    "# describe all the columns\n",
    "df.describe(include='all')"
   ]
  },
  {
   "cell_type": "code",
   "execution_count": 96,
   "metadata": {},
   "outputs": [
    {
     "data": {
      "text/plain": [
       "<matplotlib.axes._subplots.AxesSubplot at 0x18e4a2f85c0>"
      ]
     },
     "execution_count": 96,
     "metadata": {},
     "output_type": "execute_result"
    },
    {
     "data": {
      "image/png": "[encoded data removed]",
      "text/plain": [
       "<Figure size 432x288 with 1 Axes>"
      ]
     },
     "metadata": {},
     "output_type": "display_data"
    }
   ],
   "source": [
    "df.Season.value_counts().plot(kind='bar')\n",
    "\n"
   ]
  },
  {
   "cell_type": "code",
   "execution_count": 97,
   "metadata": {},
   "outputs": [
    {
     "data": {
      "text/plain": [
       "<matplotlib.axes._subplots.AxesSubplot at 0x18e4a34b278>"
      ]
     },
     "execution_count": 97,
     "metadata": {},
     "output_type": "execute_result"
    },
    {
     "data": {
      "image/png": "[encoded data removed]",
      "text/plain": [
       "<Figure size 432x288 with 1 Axes>"
      ]
     },
     "metadata": {},
     "output_type": "display_data"
    }
   ],
   "source": [
    "df.Month.value_counts().plot(kind='bar')"
   ]
  },
  {
   "cell_type": "code",
   "execution_count": 98,
   "metadata": {},
   "outputs": [
    {
     "data": {
      "text/plain": [
       "<matplotlib.axes._subplots.AxesSubplot at 0x18e4a1ba860>"
      ]
     },
     "execution_count": 98,
     "metadata": {},
     "output_type": "execute_result"
    },
    {
     "data": {
      "image/png": "[encoded data removed]",
      "text/plain": [
       "<Figure size 432x288 with 1 Axes>"
      ]
     },
     "metadata": {},
     "output_type": "display_data"
    }
   ],
   "source": [
    "df.Year.value_counts().plot(kind='bar')"
   ]
  },
  {
   "cell_type": "code",
   "execution_count": 99,
   "metadata": {},
   "outputs": [
    {
     "data": {
      "text/plain": [
       "<matplotlib.axes._subplots.AxesSubplot at 0x18e4a235e10>"
      ]
     },
     "execution_count": 99,
     "metadata": {},
     "output_type": "execute_result"
    },
    {
     "data": {
      "image/png": "[encoded data removed]",
      "text/plain": [
       "<Figure size 432x288 with 1 Axes>"
      ]
     },
     "metadata": {},
     "output_type": "display_data"
    }
   ],
   "source": [
    "df.WorkingDay.value_counts().plot(kind='bar')"
   ]
  },
  {
   "cell_type": "code",
   "execution_count": 100,
   "metadata": {},
   "outputs": [
    {
     "data": {
      "text/plain": [
       "<matplotlib.axes._subplots.AxesSubplot at 0x18e4a492240>"
      ]
     },
     "execution_count": 100,
     "metadata": {},
     "output_type": "execute_result"
    },
    {
     "data": {
      "image/png": "[encoded data removed]",
      "text/plain": [
       "<Figure size 432x288 with 1 Axes>"
      ]
     },
     "metadata": {},
     "output_type": "display_data"
    }
   ],
   "source": [
    "df.Holiday.value_counts().plot(kind='bar')"
   ]
  },
  {
   "cell_type": "code",
   "execution_count": 101,
   "metadata": {},
   "outputs": [
    {
     "data": {
      "text/plain": [
       "<matplotlib.axes._subplots.AxesSubplot at 0x18e4a4d4b00>"
      ]
     },
     "execution_count": 101,
     "metadata": {},
     "output_type": "execute_result"
    },
    {
     "data": {
      "image/png": "[encoded data removed]",
      "text/plain": [
       "<Figure size 432x288 with 1 Axes>"
      ]
     },
     "metadata": {},
     "output_type": "display_data"
    }
   ],
   "source": [
    "df.Weekday.value_counts().plot(kind='bar')"
   ]
  },
  {
   "cell_type": "code",
   "execution_count": 102,
   "metadata": {},
   "outputs": [
    {
     "data": {
      "text/plain": [
       "<matplotlib.axes._subplots.AxesSubplot at 0x18e4a513e48>"
      ]
     },
     "execution_count": 102,
     "metadata": {},
     "output_type": "execute_result"
    },
    {
     "data": {
      "image/png": "[encoded data removed]",
      "text/plain": [
       "<Figure size 432x288 with 1 Axes>"
      ]
     },
     "metadata": {},
     "output_type": "display_data"
    }
   ],
   "source": [
    "df.WeatherSituation.value_counts().plot(kind='bar')"
   ]
  },
  {
   "cell_type": "code",
   "execution_count": 103,
   "metadata": {},
   "outputs": [
    {
     "data": {
      "text/plain": [
       "<matplotlib.axes._subplots.AxesSubplot at 0x18e4a578208>"
      ]
     },
     "execution_count": 103,
     "metadata": {},
     "output_type": "execute_result"
    },
    {
     "data": {
      "image/png": "[encoded data removed]",
      "text/plain": [
       "<Figure size 432x288 with 1 Axes>"
      ]
     },
     "metadata": {},
     "output_type": "display_data"
    }
   ],
   "source": [
    "df.Temp.plot(kind='hist',bins=20,color='c')"
   ]
  },
  {
   "cell_type": "code",
   "execution_count": 104,
   "metadata": {},
   "outputs": [
    {
     "data": {
      "text/plain": [
       "<matplotlib.axes._subplots.AxesSubplot at 0x18e4a3b1240>"
      ]
     },
     "execution_count": 104,
     "metadata": {},
     "output_type": "execute_result"
    },
    {
     "data": {
      "image/png": "[encoded data removed]",
      "text/plain": [
       "<Figure size 432x288 with 1 Axes>"
      ]
     },
     "metadata": {},
     "output_type": "display_data"
    }
   ],
   "source": [
    "df.ActualTemp.plot(kind='hist',bins=20,color='c')"
   ]
  },
  {
   "cell_type": "code",
   "execution_count": 105,
   "metadata": {},
   "outputs": [
    {
     "data": {
      "text/plain": [
       "<matplotlib.axes._subplots.AxesSubplot at 0x18e4a69a048>"
      ]
     },
     "execution_count": 105,
     "metadata": {},
     "output_type": "execute_result"
    },
    {
     "data": {
      "image/png": "[encoded data removed]",
      "text/plain": [
       "<Figure size 432x288 with 1 Axes>"
      ]
     },
     "metadata": {},
     "output_type": "display_data"
    }
   ],
   "source": [
    "df.Humidity.plot(kind='hist',bins=20,color='c')"
   ]
  },
  {
   "cell_type": "code",
   "execution_count": 106,
   "metadata": {},
   "outputs": [
    {
     "data": {
      "text/plain": [
       "<matplotlib.axes._subplots.AxesSubplot at 0x18e4a720d68>"
      ]
     },
     "execution_count": 106,
     "metadata": {},
     "output_type": "execute_result"
    },
    {
     "data": {
      "image/png": "[encoded data removed]",
      "text/plain": [
       "<Figure size 432x288 with 1 Axes>"
      ]
     },
     "metadata": {},
     "output_type": "display_data"
    }
   ],
   "source": [
    "df.WindSpeed.plot(kind='hist',bins=20,color='c')"
   ]
  },
  {
   "cell_type": "code",
   "execution_count": 107,
   "metadata": {},
   "outputs": [
    {
     "data": {
      "text/plain": [
       "<matplotlib.axes._subplots.AxesSubplot at 0x18e4a6aae80>"
      ]
     },
     "execution_count": 107,
     "metadata": {},
     "output_type": "execute_result"
    },
    {
     "data": {
      "image/png": "[encoded data removed]",
      "text/plain": [
       "<Figure size 432x288 with 1 Axes>"
      ]
     },
     "metadata": {},
     "output_type": "display_data"
    }
   ],
   "source": [
    "df.Casual.plot(kind='hist',bins=20,color='c')"
   ]
  },
  {
   "cell_type": "code",
   "execution_count": 108,
   "metadata": {},
   "outputs": [
    {
     "data": {
      "text/plain": [
       "<matplotlib.axes._subplots.AxesSubplot at 0x18e4a808cf8>"
      ]
     },
     "execution_count": 108,
     "metadata": {},
     "output_type": "execute_result"
    },
    {
     "data": {
      "image/png": "[encoded data removed]",
      "text/plain": [
       "<Figure size 432x288 with 1 Axes>"
      ]
     },
     "metadata": {},
     "output_type": "display_data"
    }
   ],
   "source": [
    "df.Registered.plot(kind='hist',bins=20,color='c')"
   ]
  },
  {
   "cell_type": "code",
   "execution_count": 109,
   "metadata": {},
   "outputs": [
    {
     "data": {
      "text/plain": [
       "<matplotlib.axes._subplots.AxesSubplot at 0x18e4a89def0>"
      ]
     },
     "execution_count": 109,
     "metadata": {},
     "output_type": "execute_result"
    },
    {
     "data": {
      "image/png": "[encoded data removed]",
      "text/plain": [
       "<Figure size 432x288 with 1 Axes>"
      ]
     },
     "metadata": {},
     "output_type": "display_data"
    }
   ],
   "source": [
    "df.Count.plot(kind='hist',bins=20,color='c')"
   ]
  },
  {
   "cell_type": "code",
   "execution_count": 171,
   "metadata": {},
   "outputs": [
    {
     "data": {
      "text/plain": [
       "1096.0"
      ]
     },
     "execution_count": 171,
     "metadata": {},
     "output_type": "execute_result"
    }
   ],
   "source": [
    "df_o=df.copy()\n",
    "df.Casual.quantile(0.75)"
   ]
  },
  {
   "cell_type": "code",
   "execution_count": 172,
   "metadata": {},
   "outputs": [
    {
     "name": "stdout",
     "output_type": "stream",
     "text": [
      "<class 'pandas.core.frame.DataFrame'>\n",
      "RangeIndex: 731 entries, 0 to 730\n",
      "Data columns (total 16 columns):\n",
      "Instant             731 non-null float64\n",
      "Date                731 non-null object\n",
      "Season              731 non-null object\n",
      "Year                731 non-null object\n",
      "Month               731 non-null object\n",
      "Holiday             731 non-null object\n",
      "Weekday             731 non-null object\n",
      "WorkingDay          731 non-null object\n",
      "WeatherSituation    731 non-null object\n",
      "Temp                731 non-null float64\n",
      "ActualTemp          731 non-null float64\n",
      "Humidity            731 non-null float64\n",
      "WindSpeed           731 non-null float64\n",
      "Casual              731 non-null float64\n",
      "Registered          731 non-null float64\n",
      "Count               731 non-null float64\n",
      "dtypes: float64(8), object(8)\n",
      "memory usage: 91.5+ KB\n"
     ]
    }
   ],
   "source": [
    "df_o.info()"
   ]
  },
  {
   "cell_type": "code",
   "execution_count": 173,
   "metadata": {
    "scrolled": true
   },
   "outputs": [
    {
     "name": "stdout",
     "output_type": "stream",
     "text": [
      "Instant              0\n",
      "Date                 0\n",
      "Season               0\n",
      "Year                 0\n",
      "Month                0\n",
      "Holiday              0\n",
      "Weekday              0\n",
      "WorkingDay           0\n",
      "WeatherSituation     0\n",
      "Temp                 0\n",
      "ActualTemp           0\n",
      "Humidity             2\n",
      "WindSpeed           13\n",
      "Casual              44\n",
      "Registered           0\n",
      "Count                0\n",
      "dtype: int64\n",
      "Imputing row 1/731 with 0 missing, elapsed time: 0.062\n",
      "Imputing row 101/731 with 0 missing, elapsed time: 0.063\n",
      "Imputing row 201/731 with 0 missing, elapsed time: 0.064\n",
      "Imputing row 301/731 with 0 missing, elapsed time: 0.064\n",
      "Imputing row 401/731 with 0 missing, elapsed time: 0.064\n",
      "Imputing row 501/731 with 0 missing, elapsed time: 0.065\n",
      "Imputing row 601/731 with 0 missing, elapsed time: 0.066\n",
      "Imputing row 701/731 with 0 missing, elapsed time: 0.066\n",
      "Instant             0\n",
      "Date                0\n",
      "Season              0\n",
      "Year                0\n",
      "Month               0\n",
      "Holiday             0\n",
      "Weekday             0\n",
      "WorkingDay          0\n",
      "WeatherSituation    0\n",
      "Temp                0\n",
      "ActualTemp          0\n",
      "Humidity            0\n",
      "WindSpeed           3\n",
      "Casual              0\n",
      "Registered          0\n",
      "Count               0\n",
      "dtype: int64\n",
      "Imputing row 1/731 with 0 missing, elapsed time: 0.066\n",
      "Imputing row 101/731 with 0 missing, elapsed time: 0.066\n",
      "Imputing row 201/731 with 0 missing, elapsed time: 0.066\n",
      "Imputing row 301/731 with 0 missing, elapsed time: 0.067\n",
      "Imputing row 401/731 with 0 missing, elapsed time: 0.067\n",
      "Imputing row 501/731 with 0 missing, elapsed time: 0.067\n",
      "Imputing row 601/731 with 0 missing, elapsed time: 0.067\n",
      "Imputing row 701/731 with 0 missing, elapsed time: 0.068\n",
      "Instant             0\n",
      "Date                0\n",
      "Season              0\n",
      "Year                0\n",
      "Month               0\n",
      "Holiday             0\n",
      "Weekday             0\n",
      "WorkingDay          0\n",
      "WeatherSituation    0\n",
      "Temp                0\n",
      "ActualTemp          0\n",
      "Humidity            0\n",
      "WindSpeed           1\n",
      "Casual              0\n",
      "Registered          0\n",
      "Count               0\n",
      "dtype: int64\n",
      "Imputing row 1/731 with 0 missing, elapsed time: 0.061\n",
      "Imputing row 101/731 with 0 missing, elapsed time: 0.061\n",
      "Imputing row 201/731 with 0 missing, elapsed time: 0.061\n",
      "Imputing row 301/731 with 0 missing, elapsed time: 0.062\n",
      "Imputing row 401/731 with 0 missing, elapsed time: 0.062\n",
      "Imputing row 501/731 with 0 missing, elapsed time: 0.062\n",
      "Imputing row 601/731 with 0 missing, elapsed time: 0.062\n",
      "Imputing row 701/731 with 0 missing, elapsed time: 0.062\n",
      "Instant             0\n",
      "Date                0\n",
      "Season              0\n",
      "Year                0\n",
      "Month               0\n",
      "Holiday             0\n",
      "Weekday             0\n",
      "WorkingDay          0\n",
      "WeatherSituation    0\n",
      "Temp                0\n",
      "ActualTemp          0\n",
      "Humidity            0\n",
      "WindSpeed           0\n",
      "Casual              0\n",
      "Registered          0\n",
      "Count               0\n",
      "dtype: int64\n"
     ]
    }
   ],
   "source": [
    "import fancyimpute\n",
    "# Outlier Analysis\n",
    "while True:\n",
    "    for i in num_cols:\n",
    "        median=np.median(df_o[i])\n",
    "        std=np.std(df_o[i])\n",
    "        min=(df_o[i].quantile(0.25)-1.5*(df_o[i].quantile(0.75)-df_o[i].quantile(0.25)))    \n",
    "        max=(df_o[i].quantile(0.75)+1.5*(df_o[i].quantile(0.75)-df_o[i].quantile(0.25)))\n",
    "        df_o.loc[df_o[i]<min,i] = np.nan\n",
    "        df_o.loc[df_o[i]>max,i] = np.nan\n",
    "    missing_val = df_o.isnull().sum()\n",
    "    print(missing_val)\n",
    "    if(missing_val.sum()>0):\n",
    "        df_o_knn=pd.DataFrame(fancyimpute.KNN(k = 3).complete(df_o[num_cols]), columns = num_cols)\n",
    "        df_o.iloc[:,9:]=df_o_knn.iloc[:,1:]\n",
    "    else:\n",
    "        break\n"
   ]
  },
  {
   "cell_type": "code",
   "execution_count": 155,
   "metadata": {
    "scrolled": true
   },
   "outputs": [
    {
     "data": {
      "text/html": [
       "<div>\n",
       "<style scoped>\n",
       "    .dataframe tbody tr th:only-of-type {\n",
       "        vertical-align: middle;\n",
       "    }\n",
       "\n",
       "    .dataframe tbody tr th {\n",
       "        vertical-align: top;\n",
       "    }\n",
       "\n",
       "    .dataframe thead th {\n",
       "        text-align: right;\n",
       "    }\n",
       "</style>\n",
       "<table border=\"1\" class=\"dataframe\">\n",
       "  <thead>\n",
       "    <tr style=\"text-align: right;\">\n",
       "      <th></th>\n",
       "      <th>Temp</th>\n",
       "      <th>ActualTemp</th>\n",
       "      <th>Humidity</th>\n",
       "      <th>WindSpeed</th>\n",
       "      <th>Casual</th>\n",
       "      <th>Registered</th>\n",
       "      <th>Count</th>\n",
       "    </tr>\n",
       "  </thead>\n",
       "  <tbody>\n",
       "    <tr>\n",
       "      <th>0</th>\n",
       "      <td>0.344167</td>\n",
       "      <td>0.363625</td>\n",
       "      <td>0.805833</td>\n",
       "      <td>0.160446</td>\n",
       "      <td>331.0</td>\n",
       "      <td>654.0</td>\n",
       "      <td>985.0</td>\n",
       "    </tr>\n",
       "    <tr>\n",
       "      <th>1</th>\n",
       "      <td>0.363478</td>\n",
       "      <td>0.353739</td>\n",
       "      <td>0.696087</td>\n",
       "      <td>0.248539</td>\n",
       "      <td>131.0</td>\n",
       "      <td>670.0</td>\n",
       "      <td>801.0</td>\n",
       "    </tr>\n",
       "    <tr>\n",
       "      <th>2</th>\n",
       "      <td>0.196364</td>\n",
       "      <td>0.189405</td>\n",
       "      <td>0.437273</td>\n",
       "      <td>0.248309</td>\n",
       "      <td>120.0</td>\n",
       "      <td>1229.0</td>\n",
       "      <td>1349.0</td>\n",
       "    </tr>\n",
       "    <tr>\n",
       "      <th>3</th>\n",
       "      <td>0.200000</td>\n",
       "      <td>0.212122</td>\n",
       "      <td>0.590435</td>\n",
       "      <td>0.160296</td>\n",
       "      <td>108.0</td>\n",
       "      <td>1454.0</td>\n",
       "      <td>1562.0</td>\n",
       "    </tr>\n",
       "    <tr>\n",
       "      <th>4</th>\n",
       "      <td>0.226957</td>\n",
       "      <td>0.229270</td>\n",
       "      <td>0.436957</td>\n",
       "      <td>0.186900</td>\n",
       "      <td>82.0</td>\n",
       "      <td>1518.0</td>\n",
       "      <td>1600.0</td>\n",
       "    </tr>\n",
       "    <tr>\n",
       "      <th>5</th>\n",
       "      <td>0.204348</td>\n",
       "      <td>0.233209</td>\n",
       "      <td>0.518261</td>\n",
       "      <td>0.089565</td>\n",
       "      <td>88.0</td>\n",
       "      <td>1518.0</td>\n",
       "      <td>1606.0</td>\n",
       "    </tr>\n",
       "    <tr>\n",
       "      <th>6</th>\n",
       "      <td>0.196522</td>\n",
       "      <td>0.208839</td>\n",
       "      <td>0.498696</td>\n",
       "      <td>0.168726</td>\n",
       "      <td>148.0</td>\n",
       "      <td>1362.0</td>\n",
       "      <td>1510.0</td>\n",
       "    </tr>\n",
       "    <tr>\n",
       "      <th>7</th>\n",
       "      <td>0.165000</td>\n",
       "      <td>0.162254</td>\n",
       "      <td>0.535833</td>\n",
       "      <td>0.266804</td>\n",
       "      <td>68.0</td>\n",
       "      <td>891.0</td>\n",
       "      <td>959.0</td>\n",
       "    </tr>\n",
       "    <tr>\n",
       "      <th>8</th>\n",
       "      <td>0.138333</td>\n",
       "      <td>0.116175</td>\n",
       "      <td>0.434167</td>\n",
       "      <td>0.361950</td>\n",
       "      <td>54.0</td>\n",
       "      <td>768.0</td>\n",
       "      <td>822.0</td>\n",
       "    </tr>\n",
       "    <tr>\n",
       "      <th>9</th>\n",
       "      <td>0.150833</td>\n",
       "      <td>0.150888</td>\n",
       "      <td>0.482917</td>\n",
       "      <td>0.223267</td>\n",
       "      <td>41.0</td>\n",
       "      <td>1280.0</td>\n",
       "      <td>1321.0</td>\n",
       "    </tr>\n",
       "    <tr>\n",
       "      <th>10</th>\n",
       "      <td>0.169091</td>\n",
       "      <td>0.191464</td>\n",
       "      <td>0.686364</td>\n",
       "      <td>0.122132</td>\n",
       "      <td>43.0</td>\n",
       "      <td>1220.0</td>\n",
       "      <td>1263.0</td>\n",
       "    </tr>\n",
       "    <tr>\n",
       "      <th>11</th>\n",
       "      <td>0.172727</td>\n",
       "      <td>0.160473</td>\n",
       "      <td>0.599545</td>\n",
       "      <td>0.304627</td>\n",
       "      <td>25.0</td>\n",
       "      <td>1137.0</td>\n",
       "      <td>1162.0</td>\n",
       "    </tr>\n",
       "    <tr>\n",
       "      <th>12</th>\n",
       "      <td>0.165000</td>\n",
       "      <td>0.150883</td>\n",
       "      <td>0.470417</td>\n",
       "      <td>0.301000</td>\n",
       "      <td>38.0</td>\n",
       "      <td>1368.0</td>\n",
       "      <td>1406.0</td>\n",
       "    </tr>\n",
       "    <tr>\n",
       "      <th>13</th>\n",
       "      <td>0.160870</td>\n",
       "      <td>0.188413</td>\n",
       "      <td>0.537826</td>\n",
       "      <td>0.126548</td>\n",
       "      <td>54.0</td>\n",
       "      <td>1367.0</td>\n",
       "      <td>1421.0</td>\n",
       "    </tr>\n",
       "    <tr>\n",
       "      <th>14</th>\n",
       "      <td>0.233333</td>\n",
       "      <td>0.248112</td>\n",
       "      <td>0.498750</td>\n",
       "      <td>0.157963</td>\n",
       "      <td>222.0</td>\n",
       "      <td>1026.0</td>\n",
       "      <td>1248.0</td>\n",
       "    </tr>\n",
       "    <tr>\n",
       "      <th>15</th>\n",
       "      <td>0.231667</td>\n",
       "      <td>0.234217</td>\n",
       "      <td>0.483750</td>\n",
       "      <td>0.188433</td>\n",
       "      <td>251.0</td>\n",
       "      <td>953.0</td>\n",
       "      <td>1204.0</td>\n",
       "    </tr>\n",
       "    <tr>\n",
       "      <th>16</th>\n",
       "      <td>0.175833</td>\n",
       "      <td>0.176771</td>\n",
       "      <td>0.537500</td>\n",
       "      <td>0.194017</td>\n",
       "      <td>117.0</td>\n",
       "      <td>883.0</td>\n",
       "      <td>1000.0</td>\n",
       "    </tr>\n",
       "    <tr>\n",
       "      <th>17</th>\n",
       "      <td>0.216667</td>\n",
       "      <td>0.232333</td>\n",
       "      <td>0.861667</td>\n",
       "      <td>0.146775</td>\n",
       "      <td>9.0</td>\n",
       "      <td>674.0</td>\n",
       "      <td>683.0</td>\n",
       "    </tr>\n",
       "    <tr>\n",
       "      <th>18</th>\n",
       "      <td>0.292174</td>\n",
       "      <td>0.298422</td>\n",
       "      <td>0.741739</td>\n",
       "      <td>0.208317</td>\n",
       "      <td>78.0</td>\n",
       "      <td>1572.0</td>\n",
       "      <td>1650.0</td>\n",
       "    </tr>\n",
       "    <tr>\n",
       "      <th>19</th>\n",
       "      <td>0.261667</td>\n",
       "      <td>0.255050</td>\n",
       "      <td>0.538333</td>\n",
       "      <td>0.195904</td>\n",
       "      <td>83.0</td>\n",
       "      <td>1844.0</td>\n",
       "      <td>1927.0</td>\n",
       "    </tr>\n",
       "    <tr>\n",
       "      <th>20</th>\n",
       "      <td>0.177500</td>\n",
       "      <td>0.157833</td>\n",
       "      <td>0.457083</td>\n",
       "      <td>0.353242</td>\n",
       "      <td>75.0</td>\n",
       "      <td>1468.0</td>\n",
       "      <td>1543.0</td>\n",
       "    </tr>\n",
       "    <tr>\n",
       "      <th>21</th>\n",
       "      <td>0.059130</td>\n",
       "      <td>0.079070</td>\n",
       "      <td>0.400000</td>\n",
       "      <td>0.171970</td>\n",
       "      <td>93.0</td>\n",
       "      <td>888.0</td>\n",
       "      <td>981.0</td>\n",
       "    </tr>\n",
       "    <tr>\n",
       "      <th>22</th>\n",
       "      <td>0.096522</td>\n",
       "      <td>0.098839</td>\n",
       "      <td>0.436522</td>\n",
       "      <td>0.246600</td>\n",
       "      <td>150.0</td>\n",
       "      <td>836.0</td>\n",
       "      <td>986.0</td>\n",
       "    </tr>\n",
       "    <tr>\n",
       "      <th>23</th>\n",
       "      <td>0.097391</td>\n",
       "      <td>0.117930</td>\n",
       "      <td>0.491739</td>\n",
       "      <td>0.158330</td>\n",
       "      <td>86.0</td>\n",
       "      <td>1330.0</td>\n",
       "      <td>1416.0</td>\n",
       "    </tr>\n",
       "    <tr>\n",
       "      <th>24</th>\n",
       "      <td>0.223478</td>\n",
       "      <td>0.234526</td>\n",
       "      <td>0.616957</td>\n",
       "      <td>0.129796</td>\n",
       "      <td>186.0</td>\n",
       "      <td>1799.0</td>\n",
       "      <td>1985.0</td>\n",
       "    </tr>\n",
       "    <tr>\n",
       "      <th>25</th>\n",
       "      <td>0.217500</td>\n",
       "      <td>0.203600</td>\n",
       "      <td>0.862500</td>\n",
       "      <td>0.293850</td>\n",
       "      <td>34.0</td>\n",
       "      <td>472.0</td>\n",
       "      <td>506.0</td>\n",
       "    </tr>\n",
       "    <tr>\n",
       "      <th>26</th>\n",
       "      <td>0.195000</td>\n",
       "      <td>0.219700</td>\n",
       "      <td>0.687500</td>\n",
       "      <td>0.113837</td>\n",
       "      <td>15.0</td>\n",
       "      <td>416.0</td>\n",
       "      <td>431.0</td>\n",
       "    </tr>\n",
       "    <tr>\n",
       "      <th>27</th>\n",
       "      <td>0.203478</td>\n",
       "      <td>0.223317</td>\n",
       "      <td>0.793043</td>\n",
       "      <td>0.123300</td>\n",
       "      <td>38.0</td>\n",
       "      <td>1129.0</td>\n",
       "      <td>1167.0</td>\n",
       "    </tr>\n",
       "    <tr>\n",
       "      <th>28</th>\n",
       "      <td>0.196522</td>\n",
       "      <td>0.212126</td>\n",
       "      <td>0.651739</td>\n",
       "      <td>0.145365</td>\n",
       "      <td>123.0</td>\n",
       "      <td>975.0</td>\n",
       "      <td>1098.0</td>\n",
       "    </tr>\n",
       "    <tr>\n",
       "      <th>29</th>\n",
       "      <td>0.216522</td>\n",
       "      <td>0.250322</td>\n",
       "      <td>0.722174</td>\n",
       "      <td>0.073983</td>\n",
       "      <td>140.0</td>\n",
       "      <td>956.0</td>\n",
       "      <td>1096.0</td>\n",
       "    </tr>\n",
       "    <tr>\n",
       "      <th>...</th>\n",
       "      <td>...</td>\n",
       "      <td>...</td>\n",
       "      <td>...</td>\n",
       "      <td>...</td>\n",
       "      <td>...</td>\n",
       "      <td>...</td>\n",
       "      <td>...</td>\n",
       "    </tr>\n",
       "    <tr>\n",
       "      <th>701</th>\n",
       "      <td>0.347500</td>\n",
       "      <td>0.359208</td>\n",
       "      <td>0.823333</td>\n",
       "      <td>0.124379</td>\n",
       "      <td>892.0</td>\n",
       "      <td>3757.0</td>\n",
       "      <td>4649.0</td>\n",
       "    </tr>\n",
       "    <tr>\n",
       "      <th>702</th>\n",
       "      <td>0.452500</td>\n",
       "      <td>0.455796</td>\n",
       "      <td>0.767500</td>\n",
       "      <td>0.082721</td>\n",
       "      <td>555.0</td>\n",
       "      <td>5679.0</td>\n",
       "      <td>6234.0</td>\n",
       "    </tr>\n",
       "    <tr>\n",
       "      <th>703</th>\n",
       "      <td>0.475833</td>\n",
       "      <td>0.469054</td>\n",
       "      <td>0.733750</td>\n",
       "      <td>0.174129</td>\n",
       "      <td>551.0</td>\n",
       "      <td>6055.0</td>\n",
       "      <td>6606.0</td>\n",
       "    </tr>\n",
       "    <tr>\n",
       "      <th>704</th>\n",
       "      <td>0.438333</td>\n",
       "      <td>0.428012</td>\n",
       "      <td>0.485000</td>\n",
       "      <td>0.324021</td>\n",
       "      <td>331.0</td>\n",
       "      <td>5398.0</td>\n",
       "      <td>5729.0</td>\n",
       "    </tr>\n",
       "    <tr>\n",
       "      <th>705</th>\n",
       "      <td>0.255833</td>\n",
       "      <td>0.258204</td>\n",
       "      <td>0.508750</td>\n",
       "      <td>0.174754</td>\n",
       "      <td>340.0</td>\n",
       "      <td>5035.0</td>\n",
       "      <td>5375.0</td>\n",
       "    </tr>\n",
       "    <tr>\n",
       "      <th>706</th>\n",
       "      <td>0.320833</td>\n",
       "      <td>0.321958</td>\n",
       "      <td>0.764167</td>\n",
       "      <td>0.130600</td>\n",
       "      <td>349.0</td>\n",
       "      <td>4659.0</td>\n",
       "      <td>5008.0</td>\n",
       "    </tr>\n",
       "    <tr>\n",
       "      <th>707</th>\n",
       "      <td>0.381667</td>\n",
       "      <td>0.389508</td>\n",
       "      <td>0.911250</td>\n",
       "      <td>0.101379</td>\n",
       "      <td>1153.0</td>\n",
       "      <td>4429.0</td>\n",
       "      <td>5582.0</td>\n",
       "    </tr>\n",
       "    <tr>\n",
       "      <th>708</th>\n",
       "      <td>0.384167</td>\n",
       "      <td>0.390146</td>\n",
       "      <td>0.905417</td>\n",
       "      <td>0.157975</td>\n",
       "      <td>441.0</td>\n",
       "      <td>2787.0</td>\n",
       "      <td>3228.0</td>\n",
       "    </tr>\n",
       "    <tr>\n",
       "      <th>709</th>\n",
       "      <td>0.435833</td>\n",
       "      <td>0.435575</td>\n",
       "      <td>0.925000</td>\n",
       "      <td>0.190308</td>\n",
       "      <td>329.0</td>\n",
       "      <td>4841.0</td>\n",
       "      <td>5170.0</td>\n",
       "    </tr>\n",
       "    <tr>\n",
       "      <th>710</th>\n",
       "      <td>0.353333</td>\n",
       "      <td>0.338363</td>\n",
       "      <td>0.596667</td>\n",
       "      <td>0.296037</td>\n",
       "      <td>282.0</td>\n",
       "      <td>5219.0</td>\n",
       "      <td>5501.0</td>\n",
       "    </tr>\n",
       "    <tr>\n",
       "      <th>711</th>\n",
       "      <td>0.297500</td>\n",
       "      <td>0.297338</td>\n",
       "      <td>0.538333</td>\n",
       "      <td>0.162937</td>\n",
       "      <td>310.0</td>\n",
       "      <td>5009.0</td>\n",
       "      <td>5319.0</td>\n",
       "    </tr>\n",
       "    <tr>\n",
       "      <th>712</th>\n",
       "      <td>0.295833</td>\n",
       "      <td>0.294188</td>\n",
       "      <td>0.485833</td>\n",
       "      <td>0.174129</td>\n",
       "      <td>425.0</td>\n",
       "      <td>5107.0</td>\n",
       "      <td>5532.0</td>\n",
       "    </tr>\n",
       "    <tr>\n",
       "      <th>713</th>\n",
       "      <td>0.281667</td>\n",
       "      <td>0.294192</td>\n",
       "      <td>0.642917</td>\n",
       "      <td>0.131229</td>\n",
       "      <td>429.0</td>\n",
       "      <td>5182.0</td>\n",
       "      <td>5611.0</td>\n",
       "    </tr>\n",
       "    <tr>\n",
       "      <th>714</th>\n",
       "      <td>0.324167</td>\n",
       "      <td>0.338383</td>\n",
       "      <td>0.650417</td>\n",
       "      <td>0.106350</td>\n",
       "      <td>767.0</td>\n",
       "      <td>4280.0</td>\n",
       "      <td>5047.0</td>\n",
       "    </tr>\n",
       "    <tr>\n",
       "      <th>715</th>\n",
       "      <td>0.362500</td>\n",
       "      <td>0.369938</td>\n",
       "      <td>0.838750</td>\n",
       "      <td>0.100742</td>\n",
       "      <td>538.0</td>\n",
       "      <td>3248.0</td>\n",
       "      <td>3786.0</td>\n",
       "    </tr>\n",
       "    <tr>\n",
       "      <th>716</th>\n",
       "      <td>0.393333</td>\n",
       "      <td>0.401500</td>\n",
       "      <td>0.907083</td>\n",
       "      <td>0.098258</td>\n",
       "      <td>212.0</td>\n",
       "      <td>4373.0</td>\n",
       "      <td>4585.0</td>\n",
       "    </tr>\n",
       "    <tr>\n",
       "      <th>717</th>\n",
       "      <td>0.410833</td>\n",
       "      <td>0.409708</td>\n",
       "      <td>0.666250</td>\n",
       "      <td>0.221404</td>\n",
       "      <td>433.0</td>\n",
       "      <td>5124.0</td>\n",
       "      <td>5557.0</td>\n",
       "    </tr>\n",
       "    <tr>\n",
       "      <th>718</th>\n",
       "      <td>0.332500</td>\n",
       "      <td>0.342162</td>\n",
       "      <td>0.625417</td>\n",
       "      <td>0.184092</td>\n",
       "      <td>333.0</td>\n",
       "      <td>4934.0</td>\n",
       "      <td>5267.0</td>\n",
       "    </tr>\n",
       "    <tr>\n",
       "      <th>719</th>\n",
       "      <td>0.330000</td>\n",
       "      <td>0.335217</td>\n",
       "      <td>0.667917</td>\n",
       "      <td>0.132463</td>\n",
       "      <td>314.0</td>\n",
       "      <td>3814.0</td>\n",
       "      <td>4128.0</td>\n",
       "    </tr>\n",
       "    <tr>\n",
       "      <th>720</th>\n",
       "      <td>0.326667</td>\n",
       "      <td>0.301767</td>\n",
       "      <td>0.556667</td>\n",
       "      <td>0.212870</td>\n",
       "      <td>221.0</td>\n",
       "      <td>3402.0</td>\n",
       "      <td>3623.0</td>\n",
       "    </tr>\n",
       "    <tr>\n",
       "      <th>721</th>\n",
       "      <td>0.265833</td>\n",
       "      <td>0.236113</td>\n",
       "      <td>0.441250</td>\n",
       "      <td>0.259091</td>\n",
       "      <td>205.0</td>\n",
       "      <td>1544.0</td>\n",
       "      <td>1749.0</td>\n",
       "    </tr>\n",
       "    <tr>\n",
       "      <th>722</th>\n",
       "      <td>0.245833</td>\n",
       "      <td>0.259471</td>\n",
       "      <td>0.515417</td>\n",
       "      <td>0.133083</td>\n",
       "      <td>408.0</td>\n",
       "      <td>1379.0</td>\n",
       "      <td>1787.0</td>\n",
       "    </tr>\n",
       "    <tr>\n",
       "      <th>723</th>\n",
       "      <td>0.231304</td>\n",
       "      <td>0.258900</td>\n",
       "      <td>0.791304</td>\n",
       "      <td>0.077230</td>\n",
       "      <td>174.0</td>\n",
       "      <td>746.0</td>\n",
       "      <td>920.0</td>\n",
       "    </tr>\n",
       "    <tr>\n",
       "      <th>724</th>\n",
       "      <td>0.291304</td>\n",
       "      <td>0.294465</td>\n",
       "      <td>0.734783</td>\n",
       "      <td>0.168726</td>\n",
       "      <td>440.0</td>\n",
       "      <td>573.0</td>\n",
       "      <td>1013.0</td>\n",
       "    </tr>\n",
       "    <tr>\n",
       "      <th>725</th>\n",
       "      <td>0.243333</td>\n",
       "      <td>0.220333</td>\n",
       "      <td>0.823333</td>\n",
       "      <td>0.316546</td>\n",
       "      <td>9.0</td>\n",
       "      <td>432.0</td>\n",
       "      <td>441.0</td>\n",
       "    </tr>\n",
       "    <tr>\n",
       "      <th>726</th>\n",
       "      <td>0.254167</td>\n",
       "      <td>0.226642</td>\n",
       "      <td>0.652917</td>\n",
       "      <td>0.350133</td>\n",
       "      <td>247.0</td>\n",
       "      <td>1867.0</td>\n",
       "      <td>2114.0</td>\n",
       "    </tr>\n",
       "    <tr>\n",
       "      <th>727</th>\n",
       "      <td>0.253333</td>\n",
       "      <td>0.255046</td>\n",
       "      <td>0.590000</td>\n",
       "      <td>0.155471</td>\n",
       "      <td>644.0</td>\n",
       "      <td>2451.0</td>\n",
       "      <td>3095.0</td>\n",
       "    </tr>\n",
       "    <tr>\n",
       "      <th>728</th>\n",
       "      <td>0.253333</td>\n",
       "      <td>0.242400</td>\n",
       "      <td>0.752917</td>\n",
       "      <td>0.124383</td>\n",
       "      <td>159.0</td>\n",
       "      <td>1182.0</td>\n",
       "      <td>1341.0</td>\n",
       "    </tr>\n",
       "    <tr>\n",
       "      <th>729</th>\n",
       "      <td>0.255833</td>\n",
       "      <td>0.231700</td>\n",
       "      <td>0.483333</td>\n",
       "      <td>0.350754</td>\n",
       "      <td>364.0</td>\n",
       "      <td>1432.0</td>\n",
       "      <td>1796.0</td>\n",
       "    </tr>\n",
       "    <tr>\n",
       "      <th>730</th>\n",
       "      <td>0.215833</td>\n",
       "      <td>0.223487</td>\n",
       "      <td>0.577500</td>\n",
       "      <td>0.154846</td>\n",
       "      <td>439.0</td>\n",
       "      <td>2290.0</td>\n",
       "      <td>2729.0</td>\n",
       "    </tr>\n",
       "  </tbody>\n",
       "</table>\n",
       "<p>731 rows × 7 columns</p>\n",
       "</div>"
      ],
      "text/plain": [
       "         Temp  ActualTemp  Humidity  WindSpeed  Casual  Registered   Count\n",
       "0    0.344167    0.363625  0.805833   0.160446   331.0       654.0   985.0\n",
       "1    0.363478    0.353739  0.696087   0.248539   131.0       670.0   801.0\n",
       "2    0.196364    0.189405  0.437273   0.248309   120.0      1229.0  1349.0\n",
       "3    0.200000    0.212122  0.590435   0.160296   108.0      1454.0  1562.0\n",
       "4    0.226957    0.229270  0.436957   0.186900    82.0      1518.0  1600.0\n",
       "5    0.204348    0.233209  0.518261   0.089565    88.0      1518.0  1606.0\n",
       "6    0.196522    0.208839  0.498696   0.168726   148.0      1362.0  1510.0\n",
       "7    0.165000    0.162254  0.535833   0.266804    68.0       891.0   959.0\n",
       "8    0.138333    0.116175  0.434167   0.361950    54.0       768.0   822.0\n",
       "9    0.150833    0.150888  0.482917   0.223267    41.0      1280.0  1321.0\n",
       "10   0.169091    0.191464  0.686364   0.122132    43.0      1220.0  1263.0\n",
       "11   0.172727    0.160473  0.599545   0.304627    25.0      1137.0  1162.0\n",
       "12   0.165000    0.150883  0.470417   0.301000    38.0      1368.0  1406.0\n",
       "13   0.160870    0.188413  0.537826   0.126548    54.0      1367.0  1421.0\n",
       "14   0.233333    0.248112  0.498750   0.157963   222.0      1026.0  1248.0\n",
       "15   0.231667    0.234217  0.483750   0.188433   251.0       953.0  1204.0\n",
       "16   0.175833    0.176771  0.537500   0.194017   117.0       883.0  1000.0\n",
       "17   0.216667    0.232333  0.861667   0.146775     9.0       674.0   683.0\n",
       "18   0.292174    0.298422  0.741739   0.208317    78.0      1572.0  1650.0\n",
       "19   0.261667    0.255050  0.538333   0.195904    83.0      1844.0  1927.0\n",
       "20   0.177500    0.157833  0.457083   0.353242    75.0      1468.0  1543.0\n",
       "21   0.059130    0.079070  0.400000   0.171970    93.0       888.0   981.0\n",
       "22   0.096522    0.098839  0.436522   0.246600   150.0       836.0   986.0\n",
       "23   0.097391    0.117930  0.491739   0.158330    86.0      1330.0  1416.0\n",
       "24   0.223478    0.234526  0.616957   0.129796   186.0      1799.0  1985.0\n",
       "25   0.217500    0.203600  0.862500   0.293850    34.0       472.0   506.0\n",
       "26   0.195000    0.219700  0.687500   0.113837    15.0       416.0   431.0\n",
       "27   0.203478    0.223317  0.793043   0.123300    38.0      1129.0  1167.0\n",
       "28   0.196522    0.212126  0.651739   0.145365   123.0       975.0  1098.0\n",
       "29   0.216522    0.250322  0.722174   0.073983   140.0       956.0  1096.0\n",
       "..        ...         ...       ...        ...     ...         ...     ...\n",
       "701  0.347500    0.359208  0.823333   0.124379   892.0      3757.0  4649.0\n",
       "702  0.452500    0.455796  0.767500   0.082721   555.0      5679.0  6234.0\n",
       "703  0.475833    0.469054  0.733750   0.174129   551.0      6055.0  6606.0\n",
       "704  0.438333    0.428012  0.485000   0.324021   331.0      5398.0  5729.0\n",
       "705  0.255833    0.258204  0.508750   0.174754   340.0      5035.0  5375.0\n",
       "706  0.320833    0.321958  0.764167   0.130600   349.0      4659.0  5008.0\n",
       "707  0.381667    0.389508  0.911250   0.101379  1153.0      4429.0  5582.0\n",
       "708  0.384167    0.390146  0.905417   0.157975   441.0      2787.0  3228.0\n",
       "709  0.435833    0.435575  0.925000   0.190308   329.0      4841.0  5170.0\n",
       "710  0.353333    0.338363  0.596667   0.296037   282.0      5219.0  5501.0\n",
       "711  0.297500    0.297338  0.538333   0.162937   310.0      5009.0  5319.0\n",
       "712  0.295833    0.294188  0.485833   0.174129   425.0      5107.0  5532.0\n",
       "713  0.281667    0.294192  0.642917   0.131229   429.0      5182.0  5611.0\n",
       "714  0.324167    0.338383  0.650417   0.106350   767.0      4280.0  5047.0\n",
       "715  0.362500    0.369938  0.838750   0.100742   538.0      3248.0  3786.0\n",
       "716  0.393333    0.401500  0.907083   0.098258   212.0      4373.0  4585.0\n",
       "717  0.410833    0.409708  0.666250   0.221404   433.0      5124.0  5557.0\n",
       "718  0.332500    0.342162  0.625417   0.184092   333.0      4934.0  5267.0\n",
       "719  0.330000    0.335217  0.667917   0.132463   314.0      3814.0  4128.0\n",
       "720  0.326667    0.301767  0.556667   0.212870   221.0      3402.0  3623.0\n",
       "721  0.265833    0.236113  0.441250   0.259091   205.0      1544.0  1749.0\n",
       "722  0.245833    0.259471  0.515417   0.133083   408.0      1379.0  1787.0\n",
       "723  0.231304    0.258900  0.791304   0.077230   174.0       746.0   920.0\n",
       "724  0.291304    0.294465  0.734783   0.168726   440.0       573.0  1013.0\n",
       "725  0.243333    0.220333  0.823333   0.316546     9.0       432.0   441.0\n",
       "726  0.254167    0.226642  0.652917   0.350133   247.0      1867.0  2114.0\n",
       "727  0.253333    0.255046  0.590000   0.155471   644.0      2451.0  3095.0\n",
       "728  0.253333    0.242400  0.752917   0.124383   159.0      1182.0  1341.0\n",
       "729  0.255833    0.231700  0.483333   0.350754   364.0      1432.0  1796.0\n",
       "730  0.215833    0.223487  0.577500   0.154846   439.0      2290.0  2729.0\n",
       "\n",
       "[731 rows x 7 columns]"
      ]
     },
     "execution_count": 155,
     "metadata": {},
     "output_type": "execute_result"
    }
   ],
   "source": [
    "df_o_knn.iloc[:,1:]"
   ]
  },
  {
   "cell_type": "code",
   "execution_count": 164,
   "metadata": {},
   "outputs": [],
   "source": [
    "df_o.iloc[:,9:]=df_o_knn.iloc[:,1:]"
   ]
  },
  {
   "cell_type": "code",
   "execution_count": 157,
   "metadata": {},
   "outputs": [
    {
     "data": {
      "text/plain": [
       "59"
      ]
     },
     "execution_count": 157,
     "metadata": {},
     "output_type": "execute_result"
    }
   ],
   "source": [
    "missing_val.sum()"
   ]
  },
  {
   "cell_type": "code",
   "execution_count": 286,
   "metadata": {},
   "outputs": [],
   "source": [
    "from sklearn.neighbors import KNeighborsRegressor"
   ]
  },
  {
   "cell_type": "code",
   "execution_count": null,
   "metadata": {},
   "outputs": [],
   "source": []
  },
  {
   "cell_type": "code",
   "execution_count": 342,
   "metadata": {},
   "outputs": [
    {
     "name": "stdout",
     "output_type": "stream",
     "text": [
      "<class 'pandas.core.frame.DataFrame'>\n",
      "RangeIndex: 731 entries, 0 to 730\n",
      "Data columns (total 16 columns):\n",
      "Instant             731 non-null object\n",
      "Date                731 non-null object\n",
      "Season              731 non-null object\n",
      "Year                731 non-null object\n",
      "Month               731 non-null object\n",
      "Holiday             731 non-null object\n",
      "Weekday             731 non-null object\n",
      "WorkingDay          731 non-null object\n",
      "WeatherSituation    731 non-null object\n",
      "Temp                731 non-null float64\n",
      "ActualTemp          731 non-null float64\n",
      "Humidity            731 non-null float64\n",
      "WindSpeed           731 non-null float64\n",
      "Casual              731 non-null float64\n",
      "Registered          731 non-null float64\n",
      "Count               731 non-null float64\n",
      "dtypes: float64(7), object(9)\n",
      "memory usage: 91.5+ KB\n",
      "Instant              0\n",
      "Date                 0\n",
      "Season               0\n",
      "Year                 0\n",
      "Month                0\n",
      "Holiday              0\n",
      "Weekday              0\n",
      "WorkingDay           0\n",
      "WeatherSituation     0\n",
      "Temp                 0\n",
      "ActualTemp           0\n",
      "Humidity             2\n",
      "WindSpeed           13\n",
      "Casual              44\n",
      "Registered           0\n",
      "Count                0\n",
      "dtype: int64\n",
      "Imputing row 1/731 with 0 missing, elapsed time: 0.171\n",
      "Imputing row 101/731 with 0 missing, elapsed time: 0.172\n",
      "Imputing row 201/731 with 0 missing, elapsed time: 0.173\n",
      "Imputing row 301/731 with 0 missing, elapsed time: 0.173\n",
      "Imputing row 401/731 with 0 missing, elapsed time: 0.173\n",
      "Imputing row 501/731 with 0 missing, elapsed time: 0.175\n",
      "Imputing row 601/731 with 0 missing, elapsed time: 0.175\n",
      "Imputing row 701/731 with 0 missing, elapsed time: 0.176\n",
      "Instant             0\n",
      "Date                0\n",
      "Season              0\n",
      "Year                0\n",
      "Month               0\n",
      "Holiday             0\n",
      "Weekday             0\n",
      "WorkingDay          0\n",
      "WeatherSituation    0\n",
      "Temp                0\n",
      "ActualTemp          0\n",
      "Humidity            0\n",
      "WindSpeed           3\n",
      "Casual              0\n",
      "Registered          0\n",
      "Count               0\n",
      "dtype: int64\n",
      "Imputing row 1/731 with 0 missing, elapsed time: 0.139\n",
      "Imputing row 101/731 with 0 missing, elapsed time: 0.139\n",
      "Imputing row 201/731 with 0 missing, elapsed time: 0.140\n",
      "Imputing row 301/731 with 0 missing, elapsed time: 0.140\n",
      "Imputing row 401/731 with 0 missing, elapsed time: 0.140\n",
      "Imputing row 501/731 with 0 missing, elapsed time: 0.140\n",
      "Imputing row 601/731 with 0 missing, elapsed time: 0.140\n",
      "Imputing row 701/731 with 0 missing, elapsed time: 0.141\n",
      "Instant             0\n",
      "Date                0\n",
      "Season              0\n",
      "Year                0\n",
      "Month               0\n",
      "Holiday             0\n",
      "Weekday             0\n",
      "WorkingDay          0\n",
      "WeatherSituation    0\n",
      "Temp                0\n",
      "ActualTemp          0\n",
      "Humidity            0\n",
      "WindSpeed           1\n",
      "Casual              0\n",
      "Registered          0\n",
      "Count               0\n",
      "dtype: int64\n",
      "Imputing row 1/731 with 0 missing, elapsed time: 0.133\n",
      "Imputing row 101/731 with 0 missing, elapsed time: 0.133\n",
      "Imputing row 201/731 with 0 missing, elapsed time: 0.134\n",
      "Imputing row 301/731 with 0 missing, elapsed time: 0.134\n",
      "Imputing row 401/731 with 0 missing, elapsed time: 0.134\n",
      "Imputing row 501/731 with 0 missing, elapsed time: 0.135\n",
      "Imputing row 601/731 with 0 missing, elapsed time: 0.135\n",
      "Imputing row 701/731 with 0 missing, elapsed time: 0.136\n",
      "Instant             0\n",
      "Date                0\n",
      "Season              0\n",
      "Year                0\n",
      "Month               0\n",
      "Holiday             0\n",
      "Weekday             0\n",
      "WorkingDay          0\n",
      "WeatherSituation    0\n",
      "Temp                0\n",
      "ActualTemp          0\n",
      "Humidity            0\n",
      "WindSpeed           0\n",
      "Casual              0\n",
      "Registered          0\n",
      "Count               0\n",
      "dtype: int64\n"
     ]
    },
    {
     "name": "stderr",
     "output_type": "stream",
     "text": [
      "C:\\Users\\ytnvj\\Anaconda3\\lib\\site-packages\\sklearn\\utils\\validation.py:475: DataConversionWarning: Data with input dtype object was converted to float64 by StandardScaler.\n",
      "  warnings.warn(msg, DataConversionWarning)\n",
      "C:\\Users\\ytnvj\\Anaconda3\\lib\\site-packages\\sklearn\\utils\\validation.py:475: DataConversionWarning: Data with input dtype object was converted to float64 by StandardScaler.\n",
      "  warnings.warn(msg, DataConversionWarning)\n",
      "C:\\Users\\ytnvj\\Anaconda3\\lib\\site-packages\\sklearn\\utils\\validation.py:475: DataConversionWarning: Data with input dtype object was converted to float64 by StandardScaler.\n",
      "  warnings.warn(msg, DataConversionWarning)\n"
     ]
    },
    {
     "name": "stdout",
     "output_type": "stream",
     "text": [
      "Linear Model\n",
      "0.8613684407429528\n",
      "R-Square 0.8613684407429528\n",
      "MSE 473067.04385924723\n",
      "MAE 527.2589322106459\n",
      "Explained Variance 0.8617690553494943\n",
      "Decision Tree Model\n",
      "0.7867354310762626\n",
      "R-Square 0.7867354310762626\n",
      "MSE 727745.1088435374\n",
      "MAE 563.4761904761905\n",
      "Explained Variance 0.7868670204580023\n",
      "Random Forest Model\n",
      "0.8985143064559096\n",
      "R-Square 0.8985143064559096\n",
      "MSE 346310.30117673473\n",
      "MAE 422.60036734693875\n",
      "Explained Variance 0.8987711433266465\n",
      "K Nearest Neighbors(k=5)\n",
      "0.7585757909474694\n",
      "R-Square 0.7585757909474694\n",
      "MSE 823837.2092517007\n",
      "MAE 691.8585034013605\n",
      "Explained Variance 0.7599280287568988\n"
     ]
    },
    {
     "data": {
      "image/png": "[encoded data removed]",
      "text/plain": [
       "<Figure size 504x360 with 2 Axes>"
      ]
     },
     "metadata": {},
     "output_type": "display_data"
    }
   ],
   "source": [
    "import os\n",
    "import pandas as pd\n",
    "import numpy as np\n",
    "import fancyimpute\n",
    "import seaborn as sns\n",
    "from sklearn.preprocessing import StandardScaler\n",
    "from sklearn.model_selection import train_test_split,cross_val_score\n",
    "from sklearn.linear_model import LinearRegression\n",
    "from sklearn.tree import DecisionTreeRegressor\n",
    "from sklearn.ensemble import RandomForestRegressor\n",
    "from sklearn.neighbors import KNeighborsRegressor\n",
    "from sklearn.metrics import (explained_variance_score, mean_absolute_error, mean_squared_error)\n",
    "from sklearn.metrics import r2_score\n",
    "def load_data():\n",
    "    # define path of csv\n",
    "    raw_data_path=os.path.join(os.path.pardir,'day.csv')\n",
    "    # import the dataset\n",
    "    df=pd.read_csv(raw_data_path)\n",
    "    df.columns=['Instant', 'Date', 'Season', 'Year', 'Month', 'Holiday', 'Weekday',\n",
    "           'WorkingDay', 'WeatherSituation', 'Temp', 'ActualTemp', 'Humidity', 'WindSpeed',\n",
    "           'Casual', 'Registered', 'Count']\n",
    "    # Convert the categorical columns to object \n",
    "    cat_cols=['Instant','Season', 'Year', 'Month', 'Holiday', 'Weekday',\n",
    "           'WorkingDay', 'WeatherSituation']\n",
    "    for i in cat_cols:\n",
    "        df[i] = df[i].astype(object)\n",
    "    num_cols=[]\n",
    "    for i in df.columns:\n",
    "        if(df[i].dtype==np.dtype('int64') or df[i].dtype==np.dtype('float64')):\n",
    "            num_cols.append(i)\n",
    "            df[i] = df[i].astype(np.float64)\n",
    "    # viewing the dataframe's info\n",
    "    df.info()\n",
    "    return df\n",
    "def outlier_imputer(df_o):\n",
    "    # Outlier Analysis\n",
    "    while True:\n",
    "        for i in num_cols:\n",
    "            median=np.median(df_o[i])\n",
    "            std=np.std(df_o[i])\n",
    "            min=(df_o[i].quantile(0.25)-1.5*(df_o[i].quantile(0.75)-df_o[i].quantile(0.25)))    \n",
    "            max=(df_o[i].quantile(0.75)+1.5*(df_o[i].quantile(0.75)-df_o[i].quantile(0.25)))\n",
    "            df_o.loc[df_o[i]<min,i] = np.nan\n",
    "            df_o.loc[df_o[i]>max,i] = np.nan\n",
    "        missing_val = df_o.isnull().sum()\n",
    "        print(missing_val)\n",
    "        if(missing_val.sum()>0):\n",
    "            df_o_knn=pd.DataFrame(fancyimpute.KNN(k = 3).complete(df_o[num_cols]), columns = num_cols)\n",
    "            df_o.iloc[:,9:]=df_o_knn.iloc[:,1:]\n",
    "        else:\n",
    "            break\n",
    "    return df_o\n",
    "def feature_selection(df):\n",
    "    #Set the width and hieght of the plot\n",
    "    f, ax = plt.subplots(figsize=(7, 5))\n",
    "    #Generate correlation matrix\n",
    "    corr = df.iloc[:,9:].corr()\n",
    "    #Plot using seaborn library\n",
    "    sns.heatmap(corr, mask=np.zeros_like(corr, dtype=np.bool), cmap=sns.diverging_palette(220, 10, as_cmap=True),\n",
    "                square=True, ax=ax)\n",
    "    return df.drop(['Instant','Date','Holiday','Temp','Registered'],axis=1,inplace=False)\n",
    "def split_dataset(df):\n",
    "    X=df.iloc[:,:-1].values\n",
    "    y=df.iloc[:,-1].values\n",
    "    return train_test_split(X,y,test_size=0.2,random_state=123)\n",
    "def feature_scaling(X_train,X_test):\n",
    "    standardScaler=StandardScaler()\n",
    "    X_train[:,6:]=standardScaler.fit_transform(X_train[:,6:])\n",
    "    X_test[:,6:]=standardScaler.transform(X_test[:,6:])\n",
    "    return X_train,X_test,standardScaler\n",
    "def train_lm(X_train,y_train):\n",
    "    lr_model=LinearRegression()\n",
    "    lr_model.fit(X_train,y_train)\n",
    "    return lr_model\n",
    "def train_dt(X_train,y_train):\n",
    "    dtr_model=DecisionTreeRegressor(random_state=123)\n",
    "    dtr_model.fit(X_train,y_train)\n",
    "    return dtr_model\n",
    "def train_rf(X_train,y_train):\n",
    "    rf_model=RandomForestRegressor(n_estimators=500,criterion= 'friedman_mse',random_state=123)\n",
    "    rf_model.fit(X_train,y_train)\n",
    "    return rf_model\n",
    "def train_knn(X_train,y_train):\n",
    "    rf_model=KNeighborsRegressor(n_neighbors=5)\n",
    "    rf_model.fit(X_train,y_train)\n",
    "    return rf_model\n",
    "def predict_vals(model,X_test,y_test):\n",
    "    print(model.score(X_test,y_test))\n",
    "    preds=model.predict(X_test)\n",
    "    return preds\n",
    "def evaluate_model(y_test,y_pred):\n",
    "    print('R-Square',r2_score(y_test,y_pred))\n",
    "    print('MSE',mean_squared_error(y_test,y_pred))\n",
    "    print('MAE',mean_absolute_error(y_test,y_pred))\n",
    "    print('Explained Variance',explained_variance_score(y_test,y_pred))\n",
    "def predict(model,X):\n",
    "    df=X\n",
    "    df.columns=['Instant', 'Date', 'Season', 'Year', 'Month', 'Holiday', 'Weekday',\n",
    "           'WorkingDay', 'WeatherSituation', 'Temp', 'ActualTemp', 'Humidity', 'WindSpeed',\n",
    "           'Casual', 'Registered']\n",
    "    # Convert the categorical columns to object \n",
    "    cat_cols=['Season', 'Year', 'Month', 'Holiday', 'Weekday',\n",
    "           'WorkingDay', 'WeatherSituation']\n",
    "    for i in cat_cols:\n",
    "        df[i] = df[i].astype(object)\n",
    "    num_cols=[]\n",
    "    for i in df.columns:\n",
    "        if(df[i].dtype==np.dtype('int64') or df[i].dtype==np.dtype('float64')):\n",
    "            num_cols.append(i)\n",
    "            df[i] = df[i].astype(np.float64)\n",
    "    X.drop(['Instant','Date','Holiday','Temp','Registered'],axis=1,inplace=True)\n",
    "    X=X.values\n",
    "    X[:,6:]=standardScaler.transform(X[:,6:])\n",
    "    return model.predict(X)\n",
    "df=load_data()\n",
    "df=outlier_imputer(df)\n",
    "df=feature_selection(df)\n",
    "X_train,X_test,y_train,y_test=split_dataset(df)\n",
    "X_train_scaled,X_test_scaled,standardScaler=feature_scaling(X_train,X_test)\n",
    "lr_model=train_lm(X_train,y_train)\n",
    "dt_model=train_dt(X_train,y_train)\n",
    "rf_model=train_rf(X_train,y_train)\n",
    "knn_model=train_knn(X_train,y_train)\n",
    "print('Linear Model')\n",
    "y_pred=predict_vals(lr_model,X_test_scaled,y_test)\n",
    "evaluate_model(y_test,y_pred)\n",
    "print('Decision Tree Model')\n",
    "y_pred=predict_vals(dt_model,X_test_scaled,y_test)\n",
    "evaluate_model(y_test,y_pred)\n",
    "print('Random Forest Model')\n",
    "y_pred=predict_vals(rf_model,X_test_scaled,y_test)\n",
    "evaluate_model(y_test,y_pred)\n",
    "print('K Nearest Neighbors(k=5)')\n",
    "y_pred=predict_vals(knn_model,X_test_scaled,y_test)\n",
    "evaluate_model(y_test,y_pred)"
   ]
  },
  {
   "cell_type": "code",
   "execution_count": 329,
   "metadata": {},
   "outputs": [
    {
     "name": "stdout",
     "output_type": "stream",
     "text": [
      "Linear Model\n",
      "Mean accuracy 0.8780544800280978\n",
      "Standard Deviation of Model Accuracies 0.04191051108098907\n",
      "Decision Tree Model\n",
      "Mean accuracy 0.8304936120240107\n",
      "Standard Deviation of Model Accuracies 0.057940876210777634\n",
      "Random Forest Model\n",
      "Mean accuracy 0.9090659490048114\n",
      "Standard Deviation of Model Accuracies 0.03373329331604746\n",
      "Knn Model\n",
      "Mean accuracy 0.7538481034697936\n",
      "Standard Deviation of Model Accuracies 0.07700789231686189\n"
     ]
    }
   ],
   "source": [
    "accuracies_lr=cross_val_score(lr_model,X_train_scaled,y_train,cv=10)\n",
    "print('Linear Model')\n",
    "print('Mean accuracy',np.mean(accuracies_lr))\n",
    "print('Standard Deviation of Model Accuracies',np.std(accuracies_lr))\n",
    "print('Decision Tree Model')\n",
    "accuracies_lr=cross_val_score(dt_model,X_train_scaled,y_train,cv=10)\n",
    "print('Mean accuracy',np.mean(accuracies_lr))\n",
    "print('Standard Deviation of Model Accuracies',np.std(accuracies_lr))\n",
    "print('Random Forest Model')\n",
    "\n",
    "accuracies_lr=cross_val_score(rf_model,X_train_scaled,y_train,cv=10)\n",
    "print('Mean accuracy',np.mean(accuracies_lr))\n",
    "print('Standard Deviation of Model Accuracies',np.std(accuracies_lr))\n",
    "print('Knn Model')\n",
    "\n",
    "accuracies_lr=cross_val_score(knn_model,X_train_scaled,y_train,cv=10)\n",
    "print('Mean accuracy',np.mean(accuracies_lr))\n",
    "print('Standard Deviation of Model Accuracies',np.std(accuracies_lr))"
   ]
  },
  {
   "cell_type": "code",
   "execution_count": 343,
   "metadata": {},
   "outputs": [],
   "source": [
    "knn_params=[{'n_neighbors':[3,5,7,9,11],'weights':['uniform','distance'],'algorithm':['auto', 'ball_tree', 'kd_tree', 'brute'],'metric':['euclidean','manhattan','minkowski']}]\n"
   ]
  },
  {
   "cell_type": "code",
   "execution_count": 330,
   "metadata": {},
   "outputs": [],
   "source": [
    "from sklearn.model_selection import GridSearchCV\n",
    "dt_params=[{'criterion':['mse','mae','friedman_mse'],'splitter':['best','random']}]\n",
    "rf_params=[{'criterion':['mse','mae','friedman_mse'],'n_estimators':[10,50,100,500]}]\n"
   ]
  },
  {
   "cell_type": "code",
   "execution_count": 344,
   "metadata": {},
   "outputs": [],
   "source": [
    "from sklearn.model_selection import GridSearchCV\n",
    "grid_search=GridSearchCV(knn_model,knn_params,cv=10)"
   ]
  },
  {
   "cell_type": "code",
   "execution_count": 345,
   "metadata": {},
   "outputs": [],
   "source": [
    "g=grid_search.fit(X_train_scaled,y_train)"
   ]
  },
  {
   "cell_type": "code",
   "execution_count": 346,
   "metadata": {},
   "outputs": [
    {
     "data": {
      "text/plain": [
       "{'algorithm': 'auto',\n",
       " 'metric': 'manhattan',\n",
       " 'n_neighbors': 5,\n",
       " 'weights': 'distance'}"
      ]
     },
     "execution_count": 346,
     "metadata": {},
     "output_type": "execute_result"
    }
   ],
   "source": [
    "g.best_params_"
   ]
  },
  {
   "cell_type": "code",
   "execution_count": 347,
   "metadata": {},
   "outputs": [
    {
     "data": {
      "text/plain": [
       "0.8092599865645616"
      ]
     },
     "execution_count": 347,
     "metadata": {},
     "output_type": "execute_result"
    }
   ],
   "source": [
    "g.best_score_"
   ]
  },
  {
   "cell_type": "code",
   "execution_count": null,
   "metadata": {},
   "outputs": [],
   "source": [
    "DistanceMetric"
   ]
  }
 ],
 "metadata": {
  "kernelspec": {
   "display_name": "Python 3",
   "language": "python",
   "name": "python3"
  },
  "language_info": {
   "codemirror_mode": {
    "name": "ipython",
    "version": 3
   },
   "file_extension": ".py",
   "mimetype": "text/x-python",
   "name": "python",
   "nbconvert_exporter": "python",
   "pygments_lexer": "ipython3",
   "version": "3.6.5"
  }
 },
 "nbformat": 4,
 "nbformat_minor": 2
}
